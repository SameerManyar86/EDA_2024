{
 "cells": [
  {
   "cell_type": "markdown",
   "id": "4e386c05-1169-49ef-a2d7-956ba309cc3e",
   "metadata": {},
   "source": [
    "# import packages"
   ]
  },
  {
   "cell_type": "code",
   "execution_count": 71,
   "id": "0815582c-83ae-41a6-97b7-c2bbf37d550b",
   "metadata": {},
   "outputs": [],
   "source": [
    "    import numpy as np\n",
    "    import pandas as pd \n",
    "    import matplotlib.pyplot as plt \n",
    "    import seaborn as sns"
   ]
  },
  {
   "cell_type": "code",
   "execution_count": 72,
   "id": "2bfa1aca-d6fa-4827-b418-3ee781b11e26",
   "metadata": {},
   "outputs": [
    {
     "data": {
      "text/html": [
       "<div>\n",
       "<style scoped>\n",
       "    .dataframe tbody tr th:only-of-type {\n",
       "        vertical-align: middle;\n",
       "    }\n",
       "\n",
       "    .dataframe tbody tr th {\n",
       "        vertical-align: top;\n",
       "    }\n",
       "\n",
       "    .dataframe thead th {\n",
       "        text-align: right;\n",
       "    }\n",
       "</style>\n",
       "<table border=\"1\" class=\"dataframe\">\n",
       "  <thead>\n",
       "    <tr style=\"text-align: right;\">\n",
       "      <th></th>\n",
       "      <th>case_id</th>\n",
       "      <th>continent</th>\n",
       "      <th>education_of_employee</th>\n",
       "      <th>has_job_experience</th>\n",
       "      <th>requires_job_training</th>\n",
       "      <th>no_of_employees</th>\n",
       "      <th>yr_of_estab</th>\n",
       "      <th>region_of_employment</th>\n",
       "      <th>prevailing_wage</th>\n",
       "      <th>unit_of_wage</th>\n",
       "      <th>full_time_position</th>\n",
       "      <th>case_status</th>\n",
       "    </tr>\n",
       "  </thead>\n",
       "  <tbody>\n",
       "    <tr>\n",
       "      <th>0</th>\n",
       "      <td>EZYV01</td>\n",
       "      <td>Asia</td>\n",
       "      <td>High School</td>\n",
       "      <td>N</td>\n",
       "      <td>N</td>\n",
       "      <td>14513</td>\n",
       "      <td>2007</td>\n",
       "      <td>West</td>\n",
       "      <td>592.2029</td>\n",
       "      <td>Hour</td>\n",
       "      <td>Y</td>\n",
       "      <td>Denied</td>\n",
       "    </tr>\n",
       "    <tr>\n",
       "      <th>1</th>\n",
       "      <td>EZYV02</td>\n",
       "      <td>Asia</td>\n",
       "      <td>Master's</td>\n",
       "      <td>Y</td>\n",
       "      <td>N</td>\n",
       "      <td>2412</td>\n",
       "      <td>2002</td>\n",
       "      <td>Northeast</td>\n",
       "      <td>83425.6500</td>\n",
       "      <td>Year</td>\n",
       "      <td>Y</td>\n",
       "      <td>Certified</td>\n",
       "    </tr>\n",
       "    <tr>\n",
       "      <th>2</th>\n",
       "      <td>EZYV03</td>\n",
       "      <td>Asia</td>\n",
       "      <td>Bachelor's</td>\n",
       "      <td>N</td>\n",
       "      <td>Y</td>\n",
       "      <td>44444</td>\n",
       "      <td>2008</td>\n",
       "      <td>West</td>\n",
       "      <td>122996.8600</td>\n",
       "      <td>Year</td>\n",
       "      <td>Y</td>\n",
       "      <td>Denied</td>\n",
       "    </tr>\n",
       "    <tr>\n",
       "      <th>3</th>\n",
       "      <td>EZYV04</td>\n",
       "      <td>Asia</td>\n",
       "      <td>Bachelor's</td>\n",
       "      <td>N</td>\n",
       "      <td>N</td>\n",
       "      <td>98</td>\n",
       "      <td>1897</td>\n",
       "      <td>West</td>\n",
       "      <td>83434.0300</td>\n",
       "      <td>Year</td>\n",
       "      <td>Y</td>\n",
       "      <td>Denied</td>\n",
       "    </tr>\n",
       "    <tr>\n",
       "      <th>4</th>\n",
       "      <td>EZYV05</td>\n",
       "      <td>Africa</td>\n",
       "      <td>Master's</td>\n",
       "      <td>Y</td>\n",
       "      <td>N</td>\n",
       "      <td>1082</td>\n",
       "      <td>2005</td>\n",
       "      <td>South</td>\n",
       "      <td>149907.3900</td>\n",
       "      <td>Year</td>\n",
       "      <td>Y</td>\n",
       "      <td>Certified</td>\n",
       "    </tr>\n",
       "  </tbody>\n",
       "</table>\n",
       "</div>"
      ],
      "text/plain": [
       "  case_id continent education_of_employee has_job_experience  \\\n",
       "0  EZYV01      Asia           High School                  N   \n",
       "1  EZYV02      Asia              Master's                  Y   \n",
       "2  EZYV03      Asia            Bachelor's                  N   \n",
       "3  EZYV04      Asia            Bachelor's                  N   \n",
       "4  EZYV05    Africa              Master's                  Y   \n",
       "\n",
       "  requires_job_training  no_of_employees  yr_of_estab region_of_employment  \\\n",
       "0                     N            14513         2007                 West   \n",
       "1                     N             2412         2002            Northeast   \n",
       "2                     Y            44444         2008                 West   \n",
       "3                     N               98         1897                 West   \n",
       "4                     N             1082         2005                South   \n",
       "\n",
       "   prevailing_wage unit_of_wage full_time_position case_status  \n",
       "0         592.2029         Hour                  Y      Denied  \n",
       "1       83425.6500         Year                  Y   Certified  \n",
       "2      122996.8600         Year                  Y      Denied  \n",
       "3       83434.0300         Year                  Y      Denied  \n",
       "4      149907.3900         Year                  Y   Certified  "
      ]
     },
     "execution_count": 72,
     "metadata": {},
     "output_type": "execute_result"
    }
   ],
   "source": [
    "visa_df=pd.read_csv(r\"C:\\\\Users\\\\SAMEER\\\\Documents\\\\Naresh it\\\\DataFiles\\\\Visadataset.csv\")\n",
    "visa_df.head()                 "
   ]
  },
  {
   "cell_type": "code",
   "execution_count": 73,
   "id": "9085ea74-138e-4efb-8f66-21f3c3345a1c",
   "metadata": {},
   "outputs": [
    {
     "data": {
      "text/plain": [
       "Index(['no_of_employees', 'yr_of_estab', 'prevailing_wage'], dtype='object')"
      ]
     },
     "execution_count": 73,
     "metadata": {},
     "output_type": "execute_result"
    }
   ],
   "source": [
    "cat_columns=visa_df.select_dtypes(include='object').columns\n",
    "num_columns=visa_df.select_dtypes(exclude='object').columns\n",
    "num_columns\n"
   ]
  },
  {
   "cell_type": "markdown",
   "id": "b9a94f91-63e5-41a6-8960-209ff4a8947e",
   "metadata": {},
   "source": [
    "# prevailing_wage"
   ]
  },
  {
   "cell_type": "code",
   "execution_count": 74,
   "id": "735c744b-7101-422b-9823-5561c8a12994",
   "metadata": {},
   "outputs": [
    {
     "data": {
      "text/plain": [
       "0           592.2029\n",
       "1         83425.6500\n",
       "2        122996.8600\n",
       "3         83434.0300\n",
       "4        149907.3900\n",
       "            ...     \n",
       "25475     77092.5700\n",
       "25476    279174.7900\n",
       "25477    146298.8500\n",
       "25478     86154.7700\n",
       "25479     70876.9100\n",
       "Name: prevailing_wage, Length: 25480, dtype: float64"
      ]
     },
     "execution_count": 74,
     "metadata": {},
     "output_type": "execute_result"
    }
   ],
   "source": [
    "visa_df.loc[:,'prevailing_wage']\n",
    "visa_df.iloc[:,[8]]\n",
    "visa_df.loc[:,'prevailing_wage']\n",
    " "
   ]
  },
  {
   "cell_type": "markdown",
   "id": "cf324581-32af-48cc-bf15-4470709c173d",
   "metadata": {},
   "source": [
    "- LEN \n",
    "\n",
    "- MIN\n",
    "\n",
    "- MAX\n",
    "\n",
    "- AVERAGE (MEAN)\n",
    "\n",
    "- STANDARD DECIATION STD\n",
    "\n",
    "- MEDIAN\n",
    "\n",
    "- 25P\n",
    "\n",
    "- 50P\n",
    "\n",
    "- 75P"
   ]
  },
  {
   "cell_type": "markdown",
   "id": "d445657c-47e4-40d6-85f1-6fb098e52e17",
   "metadata": {},
   "source": [
    "**lenth**"
   ]
  },
  {
   "cell_type": "code",
   "execution_count": 75,
   "id": "28a39427-4dfe-472c-beb3-1897e4fa31a3",
   "metadata": {},
   "outputs": [
    {
     "data": {
      "text/plain": [
       "25480"
      ]
     },
     "execution_count": 75,
     "metadata": {},
     "output_type": "execute_result"
    }
   ],
   "source": [
    "len(visa_df['prevailing_wage'])"
   ]
  },
  {
   "cell_type": "code",
   "execution_count": 76,
   "id": "7574d42f-e960-457d-a6ef-1eb2ab730d58",
   "metadata": {},
   "outputs": [],
   "source": [
    "# visa_df.iloc[rows,columns]\n",
    "\n",
    "# start:stop:step\n",
    "\n",
    "# visa_df.iloc[3:7,2:5]\n",
    "\n",
    "# col=3,4,5,6\n",
    "# col=2,3,4\n",
    "# visa_df.iloc[row,columns]"
   ]
  },
  {
   "cell_type": "code",
   "execution_count": 77,
   "id": "23c1b21a-3b30-44a6-abf9-f7d2f0610953",
   "metadata": {},
   "outputs": [
    {
     "name": "stdout",
     "output_type": "stream",
     "text": [
      "the number of wage samples are: 25480\n",
      "the minimum of wage is : 2.1367\n",
      "the miximum of wage is : 319210.27\n"
     ]
    }
   ],
   "source": [
    "count_wage=len(visa_df['prevailing_wage'])\n",
    "min_wage=min(visa_df['prevailing_wage'])\n",
    "max_wage=max(visa_df['prevailing_wage'])\n",
    "print(\"the number of wage samples are:\",count_wage)\n",
    "print(\"the minimum of wage is :\",min_wage)\n",
    "print(\"the miximum of wage is :\",max_wage)"
   ]
  },
  {
   "cell_type": "code",
   "execution_count": 78,
   "id": "ada1cb45-8116-4da6-a313-35cd467b1933",
   "metadata": {},
   "outputs": [
    {
     "data": {
      "text/plain": [
       "74455.81459209183"
      ]
     },
     "execution_count": 78,
     "metadata": {},
     "output_type": "execute_result"
    }
   ],
   "source": [
    "visa_df['prevailing_wage'].mean()"
   ]
  },
  {
   "cell_type": "code",
   "execution_count": 79,
   "id": "ebec4fbd-9460-48cc-b724-dada7e318fb8",
   "metadata": {},
   "outputs": [
    {
     "data": {
      "text/plain": [
       "70308.20999999999"
      ]
     },
     "execution_count": 79,
     "metadata": {},
     "output_type": "execute_result"
    }
   ],
   "source": [
    "visa_df['prevailing_wage'].median()"
   ]
  },
  {
   "cell_type": "code",
   "execution_count": 80,
   "id": "00ab928a-ffaa-4fb0-89c2-c478f9ca8247",
   "metadata": {},
   "outputs": [
    {
     "name": "stdout",
     "output_type": "stream",
     "text": [
      "the average wage is : 74455.81\n",
      "the median wage is : 70308.21\n"
     ]
    }
   ],
   "source": [
    "mean_wage=round(visa_df['prevailing_wage'].mean(),2)\n",
    "median_wage=round(visa_df['prevailing_wage'].median(),2)\n",
    "print(\"the average wage is :\",mean_wage)\n",
    "print(\"the median wage is :\",median_wage)\n"
   ]
  },
  {
   "cell_type": "code",
   "execution_count": 81,
   "id": "8ee03e12-0ec7-4a7d-8bb0-1275eba01305",
   "metadata": {},
   "outputs": [
    {
     "data": {
      "text/plain": [
       "74455.81459209183"
      ]
     },
     "execution_count": 81,
     "metadata": {},
     "output_type": "execute_result"
    }
   ],
   "source": [
    "np.mean(visa_df['prevailing_wage'])"
   ]
  },
  {
   "cell_type": "code",
   "execution_count": 82,
   "id": "41084d2d-1004-49ce-8185-4a094197af4e",
   "metadata": {},
   "outputs": [
    {
     "data": {
      "text/plain": [
       "70308.20999999999"
      ]
     },
     "execution_count": 82,
     "metadata": {},
     "output_type": "execute_result"
    }
   ],
   "source": [
    "np.median(visa_df['prevailing_wage'])"
   ]
  },
  {
   "cell_type": "markdown",
   "id": "2944b95c-2363-476b-b757-6a50fef21bee",
   "metadata": {},
   "source": [
    "**STD**"
   ]
  },
  {
   "cell_type": "code",
   "execution_count": 83,
   "id": "65e1296c-6c11-450f-b940-5a3cf2b41188",
   "metadata": {},
   "outputs": [
    {
     "data": {
      "text/plain": [
       "52815.94"
      ]
     },
     "execution_count": 83,
     "metadata": {},
     "output_type": "execute_result"
    }
   ],
   "source": [
    "std_wage=round(visa_df[\"prevailing_wage\"].std(),2)\n",
    "std_wage"
   ]
  },
  {
   "cell_type": "code",
   "execution_count": 84,
   "id": "26bc1b71-4d4d-41ff-bd71-afbc385df89e",
   "metadata": {},
   "outputs": [
    {
     "data": {
      "text/plain": [
       "52815.94"
      ]
     },
     "execution_count": 84,
     "metadata": {},
     "output_type": "execute_result"
    }
   ],
   "source": [
    "count=len(visa_df['prevailing_wage'])\n",
    "min_wage=min(visa_df['prevailing_wage'])\n",
    "max_wage=max(visa_df['prevailing_wage'])\n",
    "std_wage=round(visa_df[\"prevailing_wage\"].std(),2)\n",
    "std_wage"
   ]
  },
  {
   "cell_type": "code",
   "execution_count": 85,
   "id": "6f23b048-7ff0-424b-9903-e2804c438919",
   "metadata": {},
   "outputs": [],
   "source": [
    "# step-1 Create a empoty  list ,keep all the values in a list \n",
    "# step_2 create a index list =['count','min','max']\n",
    "# step-3 create a cols list =[pwage]\n",
    "\n",
    "values=[count_wage,min_wage,max_wage,\n",
    "        mean_wage,median_wage,std_wage]\n",
    "index=['count','min','max','mean','median','std']\n",
    "cols=['prevailing_wage']\n",
    "cols=pd.DataFrame(values,index=index,columns=cols)\n"
   ]
  },
  {
   "cell_type": "code",
   "execution_count": 86,
   "id": "e56d1d52-1eb1-41dd-976f-e531760576f5",
   "metadata": {},
   "outputs": [
    {
     "data": {
      "text/html": [
       "<div>\n",
       "<style scoped>\n",
       "    .dataframe tbody tr th:only-of-type {\n",
       "        vertical-align: middle;\n",
       "    }\n",
       "\n",
       "    .dataframe tbody tr th {\n",
       "        vertical-align: top;\n",
       "    }\n",
       "\n",
       "    .dataframe thead th {\n",
       "        text-align: right;\n",
       "    }\n",
       "</style>\n",
       "<table border=\"1\" class=\"dataframe\">\n",
       "  <thead>\n",
       "    <tr style=\"text-align: right;\">\n",
       "      <th></th>\n",
       "      <th>no_of_employees</th>\n",
       "      <th>yr_of_estab</th>\n",
       "      <th>prevailing_wage</th>\n",
       "    </tr>\n",
       "  </thead>\n",
       "  <tbody>\n",
       "    <tr>\n",
       "      <th>count</th>\n",
       "      <td>25480.000000</td>\n",
       "      <td>25480.000000</td>\n",
       "      <td>25480.000000</td>\n",
       "    </tr>\n",
       "    <tr>\n",
       "      <th>mean</th>\n",
       "      <td>5667.043210</td>\n",
       "      <td>1979.409929</td>\n",
       "      <td>74455.814592</td>\n",
       "    </tr>\n",
       "    <tr>\n",
       "      <th>std</th>\n",
       "      <td>22877.928848</td>\n",
       "      <td>42.366929</td>\n",
       "      <td>52815.942327</td>\n",
       "    </tr>\n",
       "    <tr>\n",
       "      <th>min</th>\n",
       "      <td>-26.000000</td>\n",
       "      <td>1800.000000</td>\n",
       "      <td>2.136700</td>\n",
       "    </tr>\n",
       "    <tr>\n",
       "      <th>25%</th>\n",
       "      <td>1022.000000</td>\n",
       "      <td>1976.000000</td>\n",
       "      <td>34015.480000</td>\n",
       "    </tr>\n",
       "    <tr>\n",
       "      <th>50%</th>\n",
       "      <td>2109.000000</td>\n",
       "      <td>1997.000000</td>\n",
       "      <td>70308.210000</td>\n",
       "    </tr>\n",
       "    <tr>\n",
       "      <th>75%</th>\n",
       "      <td>3504.000000</td>\n",
       "      <td>2005.000000</td>\n",
       "      <td>107735.512500</td>\n",
       "    </tr>\n",
       "    <tr>\n",
       "      <th>max</th>\n",
       "      <td>602069.000000</td>\n",
       "      <td>2016.000000</td>\n",
       "      <td>319210.270000</td>\n",
       "    </tr>\n",
       "  </tbody>\n",
       "</table>\n",
       "</div>"
      ],
      "text/plain": [
       "       no_of_employees   yr_of_estab  prevailing_wage\n",
       "count     25480.000000  25480.000000     25480.000000\n",
       "mean       5667.043210   1979.409929     74455.814592\n",
       "std       22877.928848     42.366929     52815.942327\n",
       "min         -26.000000   1800.000000         2.136700\n",
       "25%        1022.000000   1976.000000     34015.480000\n",
       "50%        2109.000000   1997.000000     70308.210000\n",
       "75%        3504.000000   2005.000000    107735.512500\n",
       "max      602069.000000   2016.000000    319210.270000"
      ]
     },
     "execution_count": 86,
     "metadata": {},
     "output_type": "execute_result"
    }
   ],
   "source": [
    "visa_df.describe()"
   ]
  },
  {
   "cell_type": "markdown",
   "id": "6c8c4b01-3ccf-4510-83f6-b1b455fc86cf",
   "metadata": {},
   "source": [
    "**25p-50p-75p**"
   ]
  },
  {
   "cell_type": "markdown",
   "id": "325758dd-ddda-4ff1-8612-60faab488d6d",
   "metadata": {},
   "source": [
    "**percentile**\n",
    "\n",
    "- in numpy we have percentile\n",
    "\n",
    "- the method is np.percentile()\n",
    "\n",
    "  - it takes the two aregument\n",
    " \n",
    "  - a : array means data\n",
    " \n",
    "  - Q : value which percentile data we want to value we need to provide\n",
    " \n",
    "  - if wee want 25p value then q=25\n",
    " \n",
    "\n",
    "**Quantile**\n",
    "\n",
    "- in numpy we gave quantile have method \n",
    "\n",
    "- the method is np.qualtile()\n",
    "\n",
    "- it takes the two arguments\n",
    "\n",
    "    - a : array means data\n",
    " \n",
    "    - q value which percentile data we want that value wee need to provide\n",
    " \n",
    "    - if we want 25p value then q=0.25\n",
    " \n",
    "    - if we want 50p value then q=0.50\n",
    "    - "
   ]
  },
  {
   "cell_type": "code",
   "execution_count": 87,
   "id": "313746bb-d51b-4774-8e34-02903fcb78a0",
   "metadata": {},
   "outputs": [
    {
     "data": {
      "text/plain": [
       "49071.6005"
      ]
     },
     "execution_count": 87,
     "metadata": {},
     "output_type": "execute_result"
    }
   ],
   "source": [
    "np.percentile(visa_df['prevailing_wage'],35)"
   ]
  },
  {
   "cell_type": "code",
   "execution_count": 88,
   "id": "e5630429-4ad3-4c09-8eae-2bd7153f450f",
   "metadata": {},
   "outputs": [
    {
     "data": {
      "text/plain": [
       "34015.479999999996"
      ]
     },
     "execution_count": 88,
     "metadata": {},
     "output_type": "execute_result"
    }
   ],
   "source": [
    "np.quantile(visa_df['prevailing_wage'],0.25)  "
   ]
  },
  {
   "cell_type": "code",
   "execution_count": 89,
   "id": "6be7f61e-0f8a-4a26-b13d-afbdb04335df",
   "metadata": {},
   "outputs": [
    {
     "name": "stdout",
     "output_type": "stream",
     "text": [
      "25p value is: 34015.48\n",
      "50p value is: 70308.21\n",
      "75p value is: 107735.51\n"
     ]
    }
   ],
   "source": [
    "wage_25p=round(np.percentile(visa_df['prevailing_wage'],25),2)\n",
    "wage_50p=round(np.percentile(visa_df['prevailing_wage'],50),2)\n",
    "wage_75p=round(np.percentile(visa_df['prevailing_wage'],75),2)\n",
    "\n",
    "print(\"25p value is:\",wage_25p)\n",
    "print(\"50p value is:\",wage_50p)\n",
    "print(\"75p value is:\",wage_75p)"
   ]
  },
  {
   "cell_type": "code",
   "execution_count": 90,
   "id": "79ded3f4-0901-4e32-bf6d-ce6a6771f35a",
   "metadata": {},
   "outputs": [
    {
     "ename": "TypeError",
     "evalue": "could not convert string to float: 'EZYV01'",
     "output_type": "error",
     "traceback": [
      "\u001b[1;31m---------------------------------------------------------------------------\u001b[0m",
      "\u001b[1;31mValueError\u001b[0m                                Traceback (most recent call last)",
      "File \u001b[1;32m~\\anaconda3\\Lib\\site-packages\\pandas\\core\\nanops.py:85\u001b[0m, in \u001b[0;36mdisallow.__call__.<locals>._f\u001b[1;34m(*args, **kwargs)\u001b[0m\n\u001b[0;32m     84\u001b[0m \u001b[38;5;28;01mtry\u001b[39;00m:\n\u001b[1;32m---> 85\u001b[0m     \u001b[38;5;28;01mreturn\u001b[39;00m f(\u001b[38;5;241m*\u001b[39margs, \u001b[38;5;241m*\u001b[39m\u001b[38;5;241m*\u001b[39mkwargs)\n\u001b[0;32m     86\u001b[0m \u001b[38;5;28;01mexcept\u001b[39;00m \u001b[38;5;167;01mValueError\u001b[39;00m \u001b[38;5;28;01mas\u001b[39;00m e:\n\u001b[0;32m     87\u001b[0m     \u001b[38;5;66;03m# we want to transform an object array\u001b[39;00m\n\u001b[0;32m     88\u001b[0m     \u001b[38;5;66;03m# ValueError message to the more typical TypeError\u001b[39;00m\n\u001b[0;32m     89\u001b[0m     \u001b[38;5;66;03m# e.g. this is normally a disallowed function on\u001b[39;00m\n\u001b[0;32m     90\u001b[0m     \u001b[38;5;66;03m# object arrays that contain strings\u001b[39;00m\n",
      "File \u001b[1;32m~\\anaconda3\\Lib\\site-packages\\pandas\\core\\nanops.py:147\u001b[0m, in \u001b[0;36mbottleneck_switch.__call__.<locals>.f\u001b[1;34m(values, axis, skipna, **kwds)\u001b[0m\n\u001b[0;32m    146\u001b[0m \u001b[38;5;28;01melse\u001b[39;00m:\n\u001b[1;32m--> 147\u001b[0m     result \u001b[38;5;241m=\u001b[39m alt(values, axis\u001b[38;5;241m=\u001b[39maxis, skipna\u001b[38;5;241m=\u001b[39mskipna, \u001b[38;5;241m*\u001b[39m\u001b[38;5;241m*\u001b[39mkwds)\n\u001b[0;32m    149\u001b[0m \u001b[38;5;28;01mreturn\u001b[39;00m result\n",
      "File \u001b[1;32m~\\anaconda3\\Lib\\site-packages\\pandas\\core\\nanops.py:1007\u001b[0m, in \u001b[0;36mnanvar\u001b[1;34m(values, axis, skipna, ddof, mask)\u001b[0m\n\u001b[0;32m   1001\u001b[0m \u001b[38;5;66;03m# xref GH10242\u001b[39;00m\n\u001b[0;32m   1002\u001b[0m \u001b[38;5;66;03m# Compute variance via two-pass algorithm, which is stable against\u001b[39;00m\n\u001b[0;32m   1003\u001b[0m \u001b[38;5;66;03m# cancellation errors and relatively accurate for small numbers of\u001b[39;00m\n\u001b[0;32m   1004\u001b[0m \u001b[38;5;66;03m# observations.\u001b[39;00m\n\u001b[0;32m   1005\u001b[0m \u001b[38;5;66;03m#\u001b[39;00m\n\u001b[0;32m   1006\u001b[0m \u001b[38;5;66;03m# See https://en.wikipedia.org/wiki/Algorithms_for_calculating_variance\u001b[39;00m\n\u001b[1;32m-> 1007\u001b[0m avg \u001b[38;5;241m=\u001b[39m _ensure_numeric(values\u001b[38;5;241m.\u001b[39msum(axis\u001b[38;5;241m=\u001b[39maxis, dtype\u001b[38;5;241m=\u001b[39mnp\u001b[38;5;241m.\u001b[39mfloat64)) \u001b[38;5;241m/\u001b[39m count\n\u001b[0;32m   1008\u001b[0m \u001b[38;5;28;01mif\u001b[39;00m axis \u001b[38;5;129;01mis\u001b[39;00m \u001b[38;5;129;01mnot\u001b[39;00m \u001b[38;5;28;01mNone\u001b[39;00m:\n",
      "File \u001b[1;32m~\\anaconda3\\Lib\\site-packages\\numpy\\core\\_methods.py:49\u001b[0m, in \u001b[0;36m_sum\u001b[1;34m(a, axis, dtype, out, keepdims, initial, where)\u001b[0m\n\u001b[0;32m     47\u001b[0m \u001b[38;5;28;01mdef\u001b[39;00m \u001b[38;5;21m_sum\u001b[39m(a, axis\u001b[38;5;241m=\u001b[39m\u001b[38;5;28;01mNone\u001b[39;00m, dtype\u001b[38;5;241m=\u001b[39m\u001b[38;5;28;01mNone\u001b[39;00m, out\u001b[38;5;241m=\u001b[39m\u001b[38;5;28;01mNone\u001b[39;00m, keepdims\u001b[38;5;241m=\u001b[39m\u001b[38;5;28;01mFalse\u001b[39;00m,\n\u001b[0;32m     48\u001b[0m          initial\u001b[38;5;241m=\u001b[39m_NoValue, where\u001b[38;5;241m=\u001b[39m\u001b[38;5;28;01mTrue\u001b[39;00m):\n\u001b[1;32m---> 49\u001b[0m     \u001b[38;5;28;01mreturn\u001b[39;00m umr_sum(a, axis, dtype, out, keepdims, initial, where)\n",
      "\u001b[1;31mValueError\u001b[0m: could not convert string to float: 'EZYV01'",
      "\nThe above exception was the direct cause of the following exception:\n",
      "\u001b[1;31mTypeError\u001b[0m                                 Traceback (most recent call last)",
      "Cell \u001b[1;32mIn[90], line 5\u001b[0m\n\u001b[0;32m      3\u001b[0m Min\u001b[38;5;241m=\u001b[39m\u001b[38;5;28mmin\u001b[39m(visa_df[i])\n\u001b[0;32m      4\u001b[0m Max\u001b[38;5;241m=\u001b[39m\u001b[38;5;28mmax\u001b[39m(visa_df[i])\n\u001b[1;32m----> 5\u001b[0m std_wage\u001b[38;5;241m=\u001b[39m\u001b[38;5;28mround\u001b[39m(visa_df[i]\u001b[38;5;241m.\u001b[39mstd(),\u001b[38;5;241m2\u001b[39m)\n\u001b[0;32m      7\u001b[0m p_25p\u001b[38;5;241m=\u001b[39m\u001b[38;5;28mround\u001b[39m(np\u001b[38;5;241m.\u001b[39mpercentile(visa_df[i],\u001b[38;5;241m25\u001b[39m),\u001b[38;5;241m2\u001b[39m)\n\u001b[0;32m      8\u001b[0m wage_50p\u001b[38;5;241m=\u001b[39m\u001b[38;5;28mround\u001b[39m(np\u001b[38;5;241m.\u001b[39mpercentile(visa_df[i],\u001b[38;5;241m50\u001b[39m),\u001b[38;5;241m2\u001b[39m)\n",
      "File \u001b[1;32m~\\anaconda3\\Lib\\site-packages\\pandas\\core\\series.py:6268\u001b[0m, in \u001b[0;36mSeries.std\u001b[1;34m(self, axis, skipna, ddof, numeric_only, **kwargs)\u001b[0m\n\u001b[0;32m   6259\u001b[0m \u001b[38;5;129m@doc\u001b[39m(make_doc(\u001b[38;5;124m\"\u001b[39m\u001b[38;5;124mstd\u001b[39m\u001b[38;5;124m\"\u001b[39m, ndim\u001b[38;5;241m=\u001b[39m\u001b[38;5;241m1\u001b[39m))\n\u001b[0;32m   6260\u001b[0m \u001b[38;5;28;01mdef\u001b[39;00m \u001b[38;5;21mstd\u001b[39m(\n\u001b[0;32m   6261\u001b[0m     \u001b[38;5;28mself\u001b[39m,\n\u001b[1;32m   (...)\u001b[0m\n\u001b[0;32m   6266\u001b[0m     \u001b[38;5;241m*\u001b[39m\u001b[38;5;241m*\u001b[39mkwargs,\n\u001b[0;32m   6267\u001b[0m ):\n\u001b[1;32m-> 6268\u001b[0m     \u001b[38;5;28;01mreturn\u001b[39;00m NDFrame\u001b[38;5;241m.\u001b[39mstd(\u001b[38;5;28mself\u001b[39m, axis, skipna, ddof, numeric_only, \u001b[38;5;241m*\u001b[39m\u001b[38;5;241m*\u001b[39mkwargs)\n",
      "File \u001b[1;32m~\\anaconda3\\Lib\\site-packages\\pandas\\core\\generic.py:11930\u001b[0m, in \u001b[0;36mNDFrame.std\u001b[1;34m(self, axis, skipna, ddof, numeric_only, **kwargs)\u001b[0m\n\u001b[0;32m  11922\u001b[0m \u001b[38;5;28;01mdef\u001b[39;00m \u001b[38;5;21mstd\u001b[39m(\n\u001b[0;32m  11923\u001b[0m     \u001b[38;5;28mself\u001b[39m,\n\u001b[0;32m  11924\u001b[0m     axis: Axis \u001b[38;5;241m|\u001b[39m \u001b[38;5;28;01mNone\u001b[39;00m \u001b[38;5;241m=\u001b[39m \u001b[38;5;241m0\u001b[39m,\n\u001b[1;32m   (...)\u001b[0m\n\u001b[0;32m  11928\u001b[0m     \u001b[38;5;241m*\u001b[39m\u001b[38;5;241m*\u001b[39mkwargs,\n\u001b[0;32m  11929\u001b[0m ) \u001b[38;5;241m-\u001b[39m\u001b[38;5;241m>\u001b[39m Series \u001b[38;5;241m|\u001b[39m \u001b[38;5;28mfloat\u001b[39m:\n\u001b[1;32m> 11930\u001b[0m     \u001b[38;5;28;01mreturn\u001b[39;00m \u001b[38;5;28mself\u001b[39m\u001b[38;5;241m.\u001b[39m_stat_function_ddof(\n\u001b[0;32m  11931\u001b[0m         \u001b[38;5;124m\"\u001b[39m\u001b[38;5;124mstd\u001b[39m\u001b[38;5;124m\"\u001b[39m, nanops\u001b[38;5;241m.\u001b[39mnanstd, axis, skipna, ddof, numeric_only, \u001b[38;5;241m*\u001b[39m\u001b[38;5;241m*\u001b[39mkwargs\n\u001b[0;32m  11932\u001b[0m     )\n",
      "File \u001b[1;32m~\\anaconda3\\Lib\\site-packages\\pandas\\core\\generic.py:11894\u001b[0m, in \u001b[0;36mNDFrame._stat_function_ddof\u001b[1;34m(self, name, func, axis, skipna, ddof, numeric_only, **kwargs)\u001b[0m\n\u001b[0;32m  11891\u001b[0m \u001b[38;5;28;01melif\u001b[39;00m axis \u001b[38;5;129;01mis\u001b[39;00m lib\u001b[38;5;241m.\u001b[39mno_default:\n\u001b[0;32m  11892\u001b[0m     axis \u001b[38;5;241m=\u001b[39m \u001b[38;5;241m0\u001b[39m\n\u001b[1;32m> 11894\u001b[0m \u001b[38;5;28;01mreturn\u001b[39;00m \u001b[38;5;28mself\u001b[39m\u001b[38;5;241m.\u001b[39m_reduce(\n\u001b[0;32m  11895\u001b[0m     func, name, axis\u001b[38;5;241m=\u001b[39maxis, numeric_only\u001b[38;5;241m=\u001b[39mnumeric_only, skipna\u001b[38;5;241m=\u001b[39mskipna, ddof\u001b[38;5;241m=\u001b[39mddof\n\u001b[0;32m  11896\u001b[0m )\n",
      "File \u001b[1;32m~\\anaconda3\\Lib\\site-packages\\pandas\\core\\series.py:6133\u001b[0m, in \u001b[0;36mSeries._reduce\u001b[1;34m(self, op, name, axis, skipna, numeric_only, filter_type, **kwds)\u001b[0m\n\u001b[0;32m   6128\u001b[0m     \u001b[38;5;66;03m# GH#47500 - change to TypeError to match other methods\u001b[39;00m\n\u001b[0;32m   6129\u001b[0m     \u001b[38;5;28;01mraise\u001b[39;00m \u001b[38;5;167;01mTypeError\u001b[39;00m(\n\u001b[0;32m   6130\u001b[0m         \u001b[38;5;124mf\u001b[39m\u001b[38;5;124m\"\u001b[39m\u001b[38;5;124mSeries.\u001b[39m\u001b[38;5;132;01m{\u001b[39;00mname\u001b[38;5;132;01m}\u001b[39;00m\u001b[38;5;124m does not allow \u001b[39m\u001b[38;5;132;01m{\u001b[39;00mkwd_name\u001b[38;5;132;01m}\u001b[39;00m\u001b[38;5;124m=\u001b[39m\u001b[38;5;132;01m{\u001b[39;00mnumeric_only\u001b[38;5;132;01m}\u001b[39;00m\u001b[38;5;124m \u001b[39m\u001b[38;5;124m\"\u001b[39m\n\u001b[0;32m   6131\u001b[0m         \u001b[38;5;124m\"\u001b[39m\u001b[38;5;124mwith non-numeric dtypes.\u001b[39m\u001b[38;5;124m\"\u001b[39m\n\u001b[0;32m   6132\u001b[0m     )\n\u001b[1;32m-> 6133\u001b[0m \u001b[38;5;28;01mreturn\u001b[39;00m op(delegate, skipna\u001b[38;5;241m=\u001b[39mskipna, \u001b[38;5;241m*\u001b[39m\u001b[38;5;241m*\u001b[39mkwds)\n",
      "File \u001b[1;32m~\\anaconda3\\Lib\\site-packages\\pandas\\core\\nanops.py:147\u001b[0m, in \u001b[0;36mbottleneck_switch.__call__.<locals>.f\u001b[1;34m(values, axis, skipna, **kwds)\u001b[0m\n\u001b[0;32m    145\u001b[0m         result \u001b[38;5;241m=\u001b[39m alt(values, axis\u001b[38;5;241m=\u001b[39maxis, skipna\u001b[38;5;241m=\u001b[39mskipna, \u001b[38;5;241m*\u001b[39m\u001b[38;5;241m*\u001b[39mkwds)\n\u001b[0;32m    146\u001b[0m \u001b[38;5;28;01melse\u001b[39;00m:\n\u001b[1;32m--> 147\u001b[0m     result \u001b[38;5;241m=\u001b[39m alt(values, axis\u001b[38;5;241m=\u001b[39maxis, skipna\u001b[38;5;241m=\u001b[39mskipna, \u001b[38;5;241m*\u001b[39m\u001b[38;5;241m*\u001b[39mkwds)\n\u001b[0;32m    149\u001b[0m \u001b[38;5;28;01mreturn\u001b[39;00m result\n",
      "File \u001b[1;32m~\\anaconda3\\Lib\\site-packages\\pandas\\core\\nanops.py:944\u001b[0m, in \u001b[0;36mnanstd\u001b[1;34m(values, axis, skipna, ddof, mask)\u001b[0m\n\u001b[0;32m    941\u001b[0m orig_dtype \u001b[38;5;241m=\u001b[39m values\u001b[38;5;241m.\u001b[39mdtype\n\u001b[0;32m    942\u001b[0m values, mask \u001b[38;5;241m=\u001b[39m _get_values(values, skipna, mask\u001b[38;5;241m=\u001b[39mmask)\n\u001b[1;32m--> 944\u001b[0m result \u001b[38;5;241m=\u001b[39m np\u001b[38;5;241m.\u001b[39msqrt(nanvar(values, axis\u001b[38;5;241m=\u001b[39maxis, skipna\u001b[38;5;241m=\u001b[39mskipna, ddof\u001b[38;5;241m=\u001b[39mddof, mask\u001b[38;5;241m=\u001b[39mmask))\n\u001b[0;32m    945\u001b[0m \u001b[38;5;28;01mreturn\u001b[39;00m _wrap_results(result, orig_dtype)\n",
      "File \u001b[1;32m~\\anaconda3\\Lib\\site-packages\\pandas\\core\\nanops.py:92\u001b[0m, in \u001b[0;36mdisallow.__call__.<locals>._f\u001b[1;34m(*args, **kwargs)\u001b[0m\n\u001b[0;32m     86\u001b[0m \u001b[38;5;28;01mexcept\u001b[39;00m \u001b[38;5;167;01mValueError\u001b[39;00m \u001b[38;5;28;01mas\u001b[39;00m e:\n\u001b[0;32m     87\u001b[0m     \u001b[38;5;66;03m# we want to transform an object array\u001b[39;00m\n\u001b[0;32m     88\u001b[0m     \u001b[38;5;66;03m# ValueError message to the more typical TypeError\u001b[39;00m\n\u001b[0;32m     89\u001b[0m     \u001b[38;5;66;03m# e.g. this is normally a disallowed function on\u001b[39;00m\n\u001b[0;32m     90\u001b[0m     \u001b[38;5;66;03m# object arrays that contain strings\u001b[39;00m\n\u001b[0;32m     91\u001b[0m     \u001b[38;5;28;01mif\u001b[39;00m is_object_dtype(args[\u001b[38;5;241m0\u001b[39m]):\n\u001b[1;32m---> 92\u001b[0m         \u001b[38;5;28;01mraise\u001b[39;00m \u001b[38;5;167;01mTypeError\u001b[39;00m(e) \u001b[38;5;28;01mfrom\u001b[39;00m \u001b[38;5;21;01me\u001b[39;00m\n\u001b[0;32m     93\u001b[0m     \u001b[38;5;28;01mraise\u001b[39;00m\n",
      "\u001b[1;31mTypeError\u001b[0m: could not convert string to float: 'EZYV01'"
     ]
    }
   ],
   "source": [
    "for i in cat_columns:\n",
    "    count=len(visa_df[i])\n",
    "    Min=min(visa_df[i])\n",
    "    Max=max(visa_df[i])\n",
    "    std_wage=round(visa_df[i].std(),2)\n",
    "    \n",
    "    p_25p=round(np.percentile(visa_df[i],25),2)\n",
    "    wage_50p=round(np.percentile(visa_df[i],50),2)\n",
    "    wage_75p=round(np.percentile(visa_df[i],75),2)\n",
    "    value=[count,min,max,mean,Meadian,std,P_25,p_50,P_75]\n",
    "    index=['count','min','max','mean','Median','std']\n",
    "\n",
    "    columns=cols"
   ]
  },
  {
   "cell_type": "markdown",
   "id": "ccf6efa8-b220-46a5-8bfb-cf351e127e49",
   "metadata": {},
   "source": [
    "**percentile**\n",
    "\n",
    "-25p:\n",
    "\n",
    "    - Assume that 25p value = x \n",
    "\n",
    "    - 25 percentage of data less than value : x\n",
    "\n",
    "- for example prevailing_wage 25p value is : 34015.47\n",
    "\n",
    "- 25 percentage of people having salary less than 34015.47\n",
    "\n",
    "- Total member : 25480\n",
    "\n",
    "- 25 percentage of 25480=6370\n",
    "\n",
    "- which means 6370 people has salary less than 34015.47    \n"
   ]
  },
  {
   "cell_type": "code",
   "execution_count": 91,
   "id": "239ad6dc-acd1-4bab-af43-a352c47d2a1b",
   "metadata": {},
   "outputs": [
    {
     "data": {
      "text/plain": [
       "34015.479999999996"
      ]
     },
     "execution_count": 91,
     "metadata": {},
     "output_type": "execute_result"
    }
   ],
   "source": [
    "np.percentile(visa_df['prevailing_wage'],25) "
   ]
  },
  {
   "cell_type": "code",
   "execution_count": 92,
   "id": "c3f28a27-4fb9-408f-be98-53cc54efdf78",
   "metadata": {},
   "outputs": [],
   "source": [
    "# step-1 Read the prevailing wage\n",
    "\n",
    "# step-2 provide the condition \n",
    "\n",
    "#     preveailing wage <percentile value"
   ]
  },
  {
   "cell_type": "code",
   "execution_count": 93,
   "id": "3c37a4b1-9123-48e5-86f2-fcd8ca2d540d",
   "metadata": {},
   "outputs": [
    {
     "data": {
      "text/plain": [
       "6370"
      ]
     },
     "execution_count": 93,
     "metadata": {},
     "output_type": "execute_result"
    }
   ],
   "source": [
    "Wage_data=visa_df['prevailing_wage']\n",
    "p_25=np.percentile(visa_df['prevailing_wage'],25)\n",
    "con=Wage_data<p_25\n",
    "len(visa_df[con])"
   ]
  },
  {
   "cell_type": "markdown",
   "id": "45b8df45-79af-4bbb-acd5-dd35b3b82c5b",
   "metadata": {},
   "source": [
    "- 50p:\n",
    "\n",
    "    - Assume that 50p value = x \n",
    "\n",
    "    - 50 percentage of data less than value : x\n",
    "\n",
    "- for example prevailing_wage 50p value is : 34015.47\n",
    "\n",
    "- 50 percentage of people having salary less than 34015.47\n",
    "\n",
    "- Total member : 25480\n",
    "\n",
    "- 50 percentage of 25480=6370\n",
    "\n",
    "- which means 6370 people has salary less than 34015.47    \n"
   ]
  },
  {
   "cell_type": "code",
   "execution_count": 94,
   "id": "a1feb563-6cfb-46f9-97cc-dea8f1f1da22",
   "metadata": {},
   "outputs": [
    {
     "data": {
      "text/plain": [
       "12740"
      ]
     },
     "execution_count": 94,
     "metadata": {},
     "output_type": "execute_result"
    }
   ],
   "source": [
    "Wage_data=visa_df['prevailing_wage']\n",
    "p_50=np.percentile(visa_df['prevailing_wage'],50)\n",
    "con=Wage_data<p_50\n",
    "len(visa_df[con])"
   ]
  },
  {
   "cell_type": "markdown",
   "id": "1cf8cca7-3256-42b4-953b-de690486d8c6",
   "metadata": {},
   "source": [
    "mean - 1st to mean+1std : 68%\n",
    "\n",
    "mean - 2st to mean+1std : 95%\n",
    "\n",
    "mean - 3st to mean+1std : 99.7%\n"
   ]
  },
  {
   "cell_type": "code",
   "execution_count": 95,
   "id": "0ceb0853-5989-4644-997b-2716e3090c02",
   "metadata": {},
   "outputs": [
    {
     "data": {
      "text/html": [
       "<div>\n",
       "<style scoped>\n",
       "    .dataframe tbody tr th:only-of-type {\n",
       "        vertical-align: middle;\n",
       "    }\n",
       "\n",
       "    .dataframe tbody tr th {\n",
       "        vertical-align: top;\n",
       "    }\n",
       "\n",
       "    .dataframe thead th {\n",
       "        text-align: right;\n",
       "    }\n",
       "</style>\n",
       "<table border=\"1\" class=\"dataframe\">\n",
       "  <thead>\n",
       "    <tr style=\"text-align: right;\">\n",
       "      <th></th>\n",
       "      <th>case_id</th>\n",
       "      <th>continent</th>\n",
       "      <th>education_of_employee</th>\n",
       "      <th>has_job_experience</th>\n",
       "      <th>requires_job_training</th>\n",
       "      <th>no_of_employees</th>\n",
       "      <th>yr_of_estab</th>\n",
       "      <th>region_of_employment</th>\n",
       "      <th>prevailing_wage</th>\n",
       "      <th>unit_of_wage</th>\n",
       "      <th>full_time_position</th>\n",
       "      <th>case_status</th>\n",
       "    </tr>\n",
       "  </thead>\n",
       "  <tbody>\n",
       "    <tr>\n",
       "      <th>0</th>\n",
       "      <td>EZYV01</td>\n",
       "      <td>Asia</td>\n",
       "      <td>High School</td>\n",
       "      <td>N</td>\n",
       "      <td>N</td>\n",
       "      <td>14513</td>\n",
       "      <td>2007</td>\n",
       "      <td>West</td>\n",
       "      <td>592.2029</td>\n",
       "      <td>Hour</td>\n",
       "      <td>Y</td>\n",
       "      <td>Denied</td>\n",
       "    </tr>\n",
       "    <tr>\n",
       "      <th>1</th>\n",
       "      <td>EZYV02</td>\n",
       "      <td>Asia</td>\n",
       "      <td>Master's</td>\n",
       "      <td>Y</td>\n",
       "      <td>N</td>\n",
       "      <td>2412</td>\n",
       "      <td>2002</td>\n",
       "      <td>Northeast</td>\n",
       "      <td>83425.6500</td>\n",
       "      <td>Year</td>\n",
       "      <td>Y</td>\n",
       "      <td>Certified</td>\n",
       "    </tr>\n",
       "    <tr>\n",
       "      <th>3</th>\n",
       "      <td>EZYV04</td>\n",
       "      <td>Asia</td>\n",
       "      <td>Bachelor's</td>\n",
       "      <td>N</td>\n",
       "      <td>N</td>\n",
       "      <td>98</td>\n",
       "      <td>1897</td>\n",
       "      <td>West</td>\n",
       "      <td>83434.0300</td>\n",
       "      <td>Year</td>\n",
       "      <td>Y</td>\n",
       "      <td>Denied</td>\n",
       "    </tr>\n",
       "    <tr>\n",
       "      <th>5</th>\n",
       "      <td>EZYV06</td>\n",
       "      <td>Asia</td>\n",
       "      <td>Master's</td>\n",
       "      <td>Y</td>\n",
       "      <td>N</td>\n",
       "      <td>2339</td>\n",
       "      <td>2012</td>\n",
       "      <td>South</td>\n",
       "      <td>78252.1400</td>\n",
       "      <td>Year</td>\n",
       "      <td>Y</td>\n",
       "      <td>Certified</td>\n",
       "    </tr>\n",
       "    <tr>\n",
       "      <th>6</th>\n",
       "      <td>EZYV07</td>\n",
       "      <td>Asia</td>\n",
       "      <td>Bachelor's</td>\n",
       "      <td>N</td>\n",
       "      <td>N</td>\n",
       "      <td>4985</td>\n",
       "      <td>1994</td>\n",
       "      <td>South</td>\n",
       "      <td>53635.3900</td>\n",
       "      <td>Year</td>\n",
       "      <td>Y</td>\n",
       "      <td>Certified</td>\n",
       "    </tr>\n",
       "    <tr>\n",
       "      <th>...</th>\n",
       "      <td>...</td>\n",
       "      <td>...</td>\n",
       "      <td>...</td>\n",
       "      <td>...</td>\n",
       "      <td>...</td>\n",
       "      <td>...</td>\n",
       "      <td>...</td>\n",
       "      <td>...</td>\n",
       "      <td>...</td>\n",
       "      <td>...</td>\n",
       "      <td>...</td>\n",
       "      <td>...</td>\n",
       "    </tr>\n",
       "    <tr>\n",
       "      <th>25473</th>\n",
       "      <td>EZYV25474</td>\n",
       "      <td>Asia</td>\n",
       "      <td>Bachelor's</td>\n",
       "      <td>Y</td>\n",
       "      <td>N</td>\n",
       "      <td>2421</td>\n",
       "      <td>2007</td>\n",
       "      <td>Northeast</td>\n",
       "      <td>22845.5600</td>\n",
       "      <td>Year</td>\n",
       "      <td>Y</td>\n",
       "      <td>Certified</td>\n",
       "    </tr>\n",
       "    <tr>\n",
       "      <th>25474</th>\n",
       "      <td>EZYV25475</td>\n",
       "      <td>Africa</td>\n",
       "      <td>Doctorate</td>\n",
       "      <td>N</td>\n",
       "      <td>N</td>\n",
       "      <td>2594</td>\n",
       "      <td>1979</td>\n",
       "      <td>Northeast</td>\n",
       "      <td>51104.7800</td>\n",
       "      <td>Year</td>\n",
       "      <td>Y</td>\n",
       "      <td>Certified</td>\n",
       "    </tr>\n",
       "    <tr>\n",
       "      <th>25475</th>\n",
       "      <td>EZYV25476</td>\n",
       "      <td>Asia</td>\n",
       "      <td>Bachelor's</td>\n",
       "      <td>Y</td>\n",
       "      <td>Y</td>\n",
       "      <td>2601</td>\n",
       "      <td>2008</td>\n",
       "      <td>South</td>\n",
       "      <td>77092.5700</td>\n",
       "      <td>Year</td>\n",
       "      <td>Y</td>\n",
       "      <td>Certified</td>\n",
       "    </tr>\n",
       "    <tr>\n",
       "      <th>25478</th>\n",
       "      <td>EZYV25479</td>\n",
       "      <td>Asia</td>\n",
       "      <td>Master's</td>\n",
       "      <td>Y</td>\n",
       "      <td>Y</td>\n",
       "      <td>1918</td>\n",
       "      <td>1887</td>\n",
       "      <td>West</td>\n",
       "      <td>86154.7700</td>\n",
       "      <td>Year</td>\n",
       "      <td>Y</td>\n",
       "      <td>Certified</td>\n",
       "    </tr>\n",
       "    <tr>\n",
       "      <th>25479</th>\n",
       "      <td>EZYV25480</td>\n",
       "      <td>Asia</td>\n",
       "      <td>Bachelor's</td>\n",
       "      <td>Y</td>\n",
       "      <td>N</td>\n",
       "      <td>3195</td>\n",
       "      <td>1960</td>\n",
       "      <td>Midwest</td>\n",
       "      <td>70876.9100</td>\n",
       "      <td>Year</td>\n",
       "      <td>Y</td>\n",
       "      <td>Certified</td>\n",
       "    </tr>\n",
       "  </tbody>\n",
       "</table>\n",
       "<p>19110 rows × 12 columns</p>\n",
       "</div>"
      ],
      "text/plain": [
       "         case_id continent education_of_employee has_job_experience  \\\n",
       "0         EZYV01      Asia           High School                  N   \n",
       "1         EZYV02      Asia              Master's                  Y   \n",
       "3         EZYV04      Asia            Bachelor's                  N   \n",
       "5         EZYV06      Asia              Master's                  Y   \n",
       "6         EZYV07      Asia            Bachelor's                  N   \n",
       "...          ...       ...                   ...                ...   \n",
       "25473  EZYV25474      Asia            Bachelor's                  Y   \n",
       "25474  EZYV25475    Africa             Doctorate                  N   \n",
       "25475  EZYV25476      Asia            Bachelor's                  Y   \n",
       "25478  EZYV25479      Asia              Master's                  Y   \n",
       "25479  EZYV25480      Asia            Bachelor's                  Y   \n",
       "\n",
       "      requires_job_training  no_of_employees  yr_of_estab  \\\n",
       "0                         N            14513         2007   \n",
       "1                         N             2412         2002   \n",
       "3                         N               98         1897   \n",
       "5                         N             2339         2012   \n",
       "6                         N             4985         1994   \n",
       "...                     ...              ...          ...   \n",
       "25473                     N             2421         2007   \n",
       "25474                     N             2594         1979   \n",
       "25475                     Y             2601         2008   \n",
       "25478                     Y             1918         1887   \n",
       "25479                     N             3195         1960   \n",
       "\n",
       "      region_of_employment  prevailing_wage unit_of_wage full_time_position  \\\n",
       "0                     West         592.2029         Hour                  Y   \n",
       "1                Northeast       83425.6500         Year                  Y   \n",
       "3                     West       83434.0300         Year                  Y   \n",
       "5                    South       78252.1400         Year                  Y   \n",
       "6                    South       53635.3900         Year                  Y   \n",
       "...                    ...              ...          ...                ...   \n",
       "25473            Northeast       22845.5600         Year                  Y   \n",
       "25474            Northeast       51104.7800         Year                  Y   \n",
       "25475                South       77092.5700         Year                  Y   \n",
       "25478                 West       86154.7700         Year                  Y   \n",
       "25479              Midwest       70876.9100         Year                  Y   \n",
       "\n",
       "      case_status  \n",
       "0          Denied  \n",
       "1       Certified  \n",
       "3          Denied  \n",
       "5       Certified  \n",
       "6       Certified  \n",
       "...           ...  \n",
       "25473   Certified  \n",
       "25474   Certified  \n",
       "25475   Certified  \n",
       "25478   Certified  \n",
       "25479   Certified  \n",
       "\n",
       "[19110 rows x 12 columns]"
      ]
     },
     "execution_count": 95,
     "metadata": {},
     "output_type": "execute_result"
    }
   ],
   "source": [
    "Wage_data=visa_df['prevailing_wage']\n",
    "p_75=np.percentile(visa_df['prevailing_wage'],75)\n",
    "con=Wage_data<p_75\n",
    "visa_df[con]"
   ]
  },
  {
   "cell_type": "code",
   "execution_count": 96,
   "id": "5bd69d1f-4734-4cbc-9043-ac2b3589a133",
   "metadata": {},
   "outputs": [
    {
     "data": {
      "text/html": [
       "<div>\n",
       "<style scoped>\n",
       "    .dataframe tbody tr th:only-of-type {\n",
       "        vertical-align: middle;\n",
       "    }\n",
       "\n",
       "    .dataframe tbody tr th {\n",
       "        vertical-align: top;\n",
       "    }\n",
       "\n",
       "    .dataframe thead th {\n",
       "        text-align: right;\n",
       "    }\n",
       "</style>\n",
       "<table border=\"1\" class=\"dataframe\">\n",
       "  <thead>\n",
       "    <tr style=\"text-align: right;\">\n",
       "      <th></th>\n",
       "      <th>case_id</th>\n",
       "      <th>continent</th>\n",
       "      <th>education_of_employee</th>\n",
       "      <th>has_job_experience</th>\n",
       "      <th>requires_job_training</th>\n",
       "      <th>no_of_employees</th>\n",
       "      <th>yr_of_estab</th>\n",
       "      <th>region_of_employment</th>\n",
       "      <th>prevailing_wage</th>\n",
       "      <th>unit_of_wage</th>\n",
       "      <th>full_time_position</th>\n",
       "      <th>case_status</th>\n",
       "    </tr>\n",
       "  </thead>\n",
       "  <tbody>\n",
       "    <tr>\n",
       "      <th>0</th>\n",
       "      <td>EZYV01</td>\n",
       "      <td>Asia</td>\n",
       "      <td>High School</td>\n",
       "      <td>N</td>\n",
       "      <td>N</td>\n",
       "      <td>14513</td>\n",
       "      <td>2007</td>\n",
       "      <td>West</td>\n",
       "      <td>592.2029</td>\n",
       "      <td>Hour</td>\n",
       "      <td>Y</td>\n",
       "      <td>Denied</td>\n",
       "    </tr>\n",
       "    <tr>\n",
       "      <th>1</th>\n",
       "      <td>EZYV02</td>\n",
       "      <td>Asia</td>\n",
       "      <td>Master's</td>\n",
       "      <td>Y</td>\n",
       "      <td>N</td>\n",
       "      <td>2412</td>\n",
       "      <td>2002</td>\n",
       "      <td>Northeast</td>\n",
       "      <td>83425.6500</td>\n",
       "      <td>Year</td>\n",
       "      <td>Y</td>\n",
       "      <td>Certified</td>\n",
       "    </tr>\n",
       "    <tr>\n",
       "      <th>2</th>\n",
       "      <td>EZYV03</td>\n",
       "      <td>Asia</td>\n",
       "      <td>Bachelor's</td>\n",
       "      <td>N</td>\n",
       "      <td>Y</td>\n",
       "      <td>44444</td>\n",
       "      <td>2008</td>\n",
       "      <td>West</td>\n",
       "      <td>122996.8600</td>\n",
       "      <td>Year</td>\n",
       "      <td>Y</td>\n",
       "      <td>Denied</td>\n",
       "    </tr>\n",
       "    <tr>\n",
       "      <th>3</th>\n",
       "      <td>EZYV04</td>\n",
       "      <td>Asia</td>\n",
       "      <td>Bachelor's</td>\n",
       "      <td>N</td>\n",
       "      <td>N</td>\n",
       "      <td>98</td>\n",
       "      <td>1897</td>\n",
       "      <td>West</td>\n",
       "      <td>83434.0300</td>\n",
       "      <td>Year</td>\n",
       "      <td>Y</td>\n",
       "      <td>Denied</td>\n",
       "    </tr>\n",
       "    <tr>\n",
       "      <th>4</th>\n",
       "      <td>EZYV05</td>\n",
       "      <td>Africa</td>\n",
       "      <td>Master's</td>\n",
       "      <td>Y</td>\n",
       "      <td>N</td>\n",
       "      <td>1082</td>\n",
       "      <td>2005</td>\n",
       "      <td>South</td>\n",
       "      <td>149907.3900</td>\n",
       "      <td>Year</td>\n",
       "      <td>Y</td>\n",
       "      <td>Certified</td>\n",
       "    </tr>\n",
       "    <tr>\n",
       "      <th>...</th>\n",
       "      <td>...</td>\n",
       "      <td>...</td>\n",
       "      <td>...</td>\n",
       "      <td>...</td>\n",
       "      <td>...</td>\n",
       "      <td>...</td>\n",
       "      <td>...</td>\n",
       "      <td>...</td>\n",
       "      <td>...</td>\n",
       "      <td>...</td>\n",
       "      <td>...</td>\n",
       "      <td>...</td>\n",
       "    </tr>\n",
       "    <tr>\n",
       "      <th>25474</th>\n",
       "      <td>EZYV25475</td>\n",
       "      <td>Africa</td>\n",
       "      <td>Doctorate</td>\n",
       "      <td>N</td>\n",
       "      <td>N</td>\n",
       "      <td>2594</td>\n",
       "      <td>1979</td>\n",
       "      <td>Northeast</td>\n",
       "      <td>51104.7800</td>\n",
       "      <td>Year</td>\n",
       "      <td>Y</td>\n",
       "      <td>Certified</td>\n",
       "    </tr>\n",
       "    <tr>\n",
       "      <th>25475</th>\n",
       "      <td>EZYV25476</td>\n",
       "      <td>Asia</td>\n",
       "      <td>Bachelor's</td>\n",
       "      <td>Y</td>\n",
       "      <td>Y</td>\n",
       "      <td>2601</td>\n",
       "      <td>2008</td>\n",
       "      <td>South</td>\n",
       "      <td>77092.5700</td>\n",
       "      <td>Year</td>\n",
       "      <td>Y</td>\n",
       "      <td>Certified</td>\n",
       "    </tr>\n",
       "    <tr>\n",
       "      <th>25477</th>\n",
       "      <td>EZYV25478</td>\n",
       "      <td>Asia</td>\n",
       "      <td>Master's</td>\n",
       "      <td>Y</td>\n",
       "      <td>N</td>\n",
       "      <td>1121</td>\n",
       "      <td>1910</td>\n",
       "      <td>South</td>\n",
       "      <td>146298.8500</td>\n",
       "      <td>Year</td>\n",
       "      <td>N</td>\n",
       "      <td>Certified</td>\n",
       "    </tr>\n",
       "    <tr>\n",
       "      <th>25478</th>\n",
       "      <td>EZYV25479</td>\n",
       "      <td>Asia</td>\n",
       "      <td>Master's</td>\n",
       "      <td>Y</td>\n",
       "      <td>Y</td>\n",
       "      <td>1918</td>\n",
       "      <td>1887</td>\n",
       "      <td>West</td>\n",
       "      <td>86154.7700</td>\n",
       "      <td>Year</td>\n",
       "      <td>Y</td>\n",
       "      <td>Certified</td>\n",
       "    </tr>\n",
       "    <tr>\n",
       "      <th>25479</th>\n",
       "      <td>EZYV25480</td>\n",
       "      <td>Asia</td>\n",
       "      <td>Bachelor's</td>\n",
       "      <td>Y</td>\n",
       "      <td>N</td>\n",
       "      <td>3195</td>\n",
       "      <td>1960</td>\n",
       "      <td>Midwest</td>\n",
       "      <td>70876.9100</td>\n",
       "      <td>Year</td>\n",
       "      <td>Y</td>\n",
       "      <td>Certified</td>\n",
       "    </tr>\n",
       "  </tbody>\n",
       "</table>\n",
       "<p>25186 rows × 12 columns</p>\n",
       "</div>"
      ],
      "text/plain": [
       "         case_id continent education_of_employee has_job_experience  \\\n",
       "0         EZYV01      Asia           High School                  N   \n",
       "1         EZYV02      Asia              Master's                  Y   \n",
       "2         EZYV03      Asia            Bachelor's                  N   \n",
       "3         EZYV04      Asia            Bachelor's                  N   \n",
       "4         EZYV05    Africa              Master's                  Y   \n",
       "...          ...       ...                   ...                ...   \n",
       "25474  EZYV25475    Africa             Doctorate                  N   \n",
       "25475  EZYV25476      Asia            Bachelor's                  Y   \n",
       "25477  EZYV25478      Asia              Master's                  Y   \n",
       "25478  EZYV25479      Asia              Master's                  Y   \n",
       "25479  EZYV25480      Asia            Bachelor's                  Y   \n",
       "\n",
       "      requires_job_training  no_of_employees  yr_of_estab  \\\n",
       "0                         N            14513         2007   \n",
       "1                         N             2412         2002   \n",
       "2                         Y            44444         2008   \n",
       "3                         N               98         1897   \n",
       "4                         N             1082         2005   \n",
       "...                     ...              ...          ...   \n",
       "25474                     N             2594         1979   \n",
       "25475                     Y             2601         2008   \n",
       "25477                     N             1121         1910   \n",
       "25478                     Y             1918         1887   \n",
       "25479                     N             3195         1960   \n",
       "\n",
       "      region_of_employment  prevailing_wage unit_of_wage full_time_position  \\\n",
       "0                     West         592.2029         Hour                  Y   \n",
       "1                Northeast       83425.6500         Year                  Y   \n",
       "2                     West      122996.8600         Year                  Y   \n",
       "3                     West       83434.0300         Year                  Y   \n",
       "4                    South      149907.3900         Year                  Y   \n",
       "...                    ...              ...          ...                ...   \n",
       "25474            Northeast       51104.7800         Year                  Y   \n",
       "25475                South       77092.5700         Year                  Y   \n",
       "25477                South      146298.8500         Year                  N   \n",
       "25478                 West       86154.7700         Year                  Y   \n",
       "25479              Midwest       70876.9100         Year                  Y   \n",
       "\n",
       "      case_status  \n",
       "0          Denied  \n",
       "1       Certified  \n",
       "2          Denied  \n",
       "3          Denied  \n",
       "4       Certified  \n",
       "...           ...  \n",
       "25474   Certified  \n",
       "25475   Certified  \n",
       "25477   Certified  \n",
       "25478   Certified  \n",
       "25479   Certified  \n",
       "\n",
       "[25186 rows x 12 columns]"
      ]
     },
     "execution_count": 96,
     "metadata": {},
     "output_type": "execute_result"
    }
   ],
   "source": [
    "# step-1 : calculate the mean of prevailing wage \n",
    "# step-2 : calculate of std of prevailing wage\n",
    "# step-3 : lb=mean- 1*std\n",
    "# step-4 : ub=mean +1*std\n",
    "# step-5 : con1= data<ub\n",
    "# step-6 : con2= data>lb\n",
    "# step-7 : con3= con1 and con2\n",
    "# step-8 : data [con3]\n",
    "# step-\n",
    "# step-9 : compare with 68% 25480 count\n",
    "\n",
    "mu=visa_df['prevailing_wage'].mean()\n",
    "sigma =visa_df['prevailing_wage'].std()\n",
    "\n",
    "lb = mu-3*sigma\n",
    "ub = mu+3*sigma\n",
    "\n",
    "con1=visa_df['prevailing_wage']<ub\n",
    "con2=visa_df['prevailing_wage']>lb\n",
    "\n",
    "con3=con1&con2\n",
    "visa_df[con3]\n"
   ]
  },
  {
   "cell_type": "code",
   "execution_count": null,
   "id": "bc73772c-5d68-4001-9840-735436b08d2a",
   "metadata": {},
   "outputs": [],
   "source": []
  },
  {
   "cell_type": "code",
   "execution_count": 97,
   "id": "16ae22f8-50b9-4168-8f68-889e19738ab2",
   "metadata": {},
   "outputs": [],
   "source": [
    "import numpy as np\n",
    "import pandas as pd \n",
    "import matplotlib.pyplot as plt \n",
    "import seaborn as sns"
   ]
  },
  {
   "cell_type": "code",
   "execution_count": 98,
   "id": "c7fd13c8-e003-41ea-9c30-897bcdf00653",
   "metadata": {},
   "outputs": [
    {
     "data": {
      "text/html": [
       "<div>\n",
       "<style scoped>\n",
       "    .dataframe tbody tr th:only-of-type {\n",
       "        vertical-align: middle;\n",
       "    }\n",
       "\n",
       "    .dataframe tbody tr th {\n",
       "        vertical-align: top;\n",
       "    }\n",
       "\n",
       "    .dataframe thead th {\n",
       "        text-align: right;\n",
       "    }\n",
       "</style>\n",
       "<table border=\"1\" class=\"dataframe\">\n",
       "  <thead>\n",
       "    <tr style=\"text-align: right;\">\n",
       "      <th></th>\n",
       "      <th>case_id</th>\n",
       "      <th>continent</th>\n",
       "      <th>education_of_employee</th>\n",
       "      <th>has_job_experience</th>\n",
       "      <th>requires_job_training</th>\n",
       "      <th>no_of_employees</th>\n",
       "      <th>yr_of_estab</th>\n",
       "      <th>region_of_employment</th>\n",
       "      <th>prevailing_wage</th>\n",
       "      <th>unit_of_wage</th>\n",
       "      <th>full_time_position</th>\n",
       "      <th>case_status</th>\n",
       "    </tr>\n",
       "  </thead>\n",
       "  <tbody>\n",
       "    <tr>\n",
       "      <th>0</th>\n",
       "      <td>EZYV01</td>\n",
       "      <td>Asia</td>\n",
       "      <td>High School</td>\n",
       "      <td>N</td>\n",
       "      <td>N</td>\n",
       "      <td>14513</td>\n",
       "      <td>2007</td>\n",
       "      <td>West</td>\n",
       "      <td>592.2029</td>\n",
       "      <td>Hour</td>\n",
       "      <td>Y</td>\n",
       "      <td>Denied</td>\n",
       "    </tr>\n",
       "    <tr>\n",
       "      <th>1</th>\n",
       "      <td>EZYV02</td>\n",
       "      <td>Asia</td>\n",
       "      <td>Master's</td>\n",
       "      <td>Y</td>\n",
       "      <td>N</td>\n",
       "      <td>2412</td>\n",
       "      <td>2002</td>\n",
       "      <td>Northeast</td>\n",
       "      <td>83425.6500</td>\n",
       "      <td>Year</td>\n",
       "      <td>Y</td>\n",
       "      <td>Certified</td>\n",
       "    </tr>\n",
       "    <tr>\n",
       "      <th>2</th>\n",
       "      <td>EZYV03</td>\n",
       "      <td>Asia</td>\n",
       "      <td>Bachelor's</td>\n",
       "      <td>N</td>\n",
       "      <td>Y</td>\n",
       "      <td>44444</td>\n",
       "      <td>2008</td>\n",
       "      <td>West</td>\n",
       "      <td>122996.8600</td>\n",
       "      <td>Year</td>\n",
       "      <td>Y</td>\n",
       "      <td>Denied</td>\n",
       "    </tr>\n",
       "    <tr>\n",
       "      <th>3</th>\n",
       "      <td>EZYV04</td>\n",
       "      <td>Asia</td>\n",
       "      <td>Bachelor's</td>\n",
       "      <td>N</td>\n",
       "      <td>N</td>\n",
       "      <td>98</td>\n",
       "      <td>1897</td>\n",
       "      <td>West</td>\n",
       "      <td>83434.0300</td>\n",
       "      <td>Year</td>\n",
       "      <td>Y</td>\n",
       "      <td>Denied</td>\n",
       "    </tr>\n",
       "    <tr>\n",
       "      <th>4</th>\n",
       "      <td>EZYV05</td>\n",
       "      <td>Africa</td>\n",
       "      <td>Master's</td>\n",
       "      <td>Y</td>\n",
       "      <td>N</td>\n",
       "      <td>1082</td>\n",
       "      <td>2005</td>\n",
       "      <td>South</td>\n",
       "      <td>149907.3900</td>\n",
       "      <td>Year</td>\n",
       "      <td>Y</td>\n",
       "      <td>Certified</td>\n",
       "    </tr>\n",
       "  </tbody>\n",
       "</table>\n",
       "</div>"
      ],
      "text/plain": [
       "  case_id continent education_of_employee has_job_experience  \\\n",
       "0  EZYV01      Asia           High School                  N   \n",
       "1  EZYV02      Asia              Master's                  Y   \n",
       "2  EZYV03      Asia            Bachelor's                  N   \n",
       "3  EZYV04      Asia            Bachelor's                  N   \n",
       "4  EZYV05    Africa              Master's                  Y   \n",
       "\n",
       "  requires_job_training  no_of_employees  yr_of_estab region_of_employment  \\\n",
       "0                     N            14513         2007                 West   \n",
       "1                     N             2412         2002            Northeast   \n",
       "2                     Y            44444         2008                 West   \n",
       "3                     N               98         1897                 West   \n",
       "4                     N             1082         2005                South   \n",
       "\n",
       "   prevailing_wage unit_of_wage full_time_position case_status  \n",
       "0         592.2029         Hour                  Y      Denied  \n",
       "1       83425.6500         Year                  Y   Certified  \n",
       "2      122996.8600         Year                  Y      Denied  \n",
       "3       83434.0300         Year                  Y      Denied  \n",
       "4      149907.3900         Year                  Y   Certified  "
      ]
     },
     "execution_count": 98,
     "metadata": {},
     "output_type": "execute_result"
    }
   ],
   "source": [
    "visa_df=pd.read_csv(r\"C:\\\\Users\\\\SAMEER\\\\Documents\\\\Naresh it\\\\DataFiles\\\\Visadataset.csv\")\n",
    "visa_df.head()                 "
   ]
  },
  {
   "cell_type": "code",
   "execution_count": 99,
   "id": "c870818a-f411-4af3-bd5f-5b464ad5e29f",
   "metadata": {},
   "outputs": [
    {
     "data": {
      "text/html": [
       "<div>\n",
       "<style scoped>\n",
       "    .dataframe tbody tr th:only-of-type {\n",
       "        vertical-align: middle;\n",
       "    }\n",
       "\n",
       "    .dataframe tbody tr th {\n",
       "        vertical-align: top;\n",
       "    }\n",
       "\n",
       "    .dataframe thead th {\n",
       "        text-align: right;\n",
       "    }\n",
       "</style>\n",
       "<table border=\"1\" class=\"dataframe\">\n",
       "  <thead>\n",
       "    <tr style=\"text-align: right;\">\n",
       "      <th></th>\n",
       "      <th>no_of_employees</th>\n",
       "      <th>yr_of_estab</th>\n",
       "      <th>prevailing_wage</th>\n",
       "    </tr>\n",
       "  </thead>\n",
       "  <tbody>\n",
       "    <tr>\n",
       "      <th>count</th>\n",
       "      <td>25480.000000</td>\n",
       "      <td>25480.000000</td>\n",
       "      <td>25480.000000</td>\n",
       "    </tr>\n",
       "    <tr>\n",
       "      <th>mean</th>\n",
       "      <td>5667.043210</td>\n",
       "      <td>1979.409929</td>\n",
       "      <td>74455.814592</td>\n",
       "    </tr>\n",
       "    <tr>\n",
       "      <th>std</th>\n",
       "      <td>22877.928848</td>\n",
       "      <td>42.366929</td>\n",
       "      <td>52815.942327</td>\n",
       "    </tr>\n",
       "    <tr>\n",
       "      <th>min</th>\n",
       "      <td>-26.000000</td>\n",
       "      <td>1800.000000</td>\n",
       "      <td>2.136700</td>\n",
       "    </tr>\n",
       "    <tr>\n",
       "      <th>25%</th>\n",
       "      <td>1022.000000</td>\n",
       "      <td>1976.000000</td>\n",
       "      <td>34015.480000</td>\n",
       "    </tr>\n",
       "    <tr>\n",
       "      <th>50%</th>\n",
       "      <td>2109.000000</td>\n",
       "      <td>1997.000000</td>\n",
       "      <td>70308.210000</td>\n",
       "    </tr>\n",
       "    <tr>\n",
       "      <th>75%</th>\n",
       "      <td>3504.000000</td>\n",
       "      <td>2005.000000</td>\n",
       "      <td>107735.512500</td>\n",
       "    </tr>\n",
       "    <tr>\n",
       "      <th>max</th>\n",
       "      <td>602069.000000</td>\n",
       "      <td>2016.000000</td>\n",
       "      <td>319210.270000</td>\n",
       "    </tr>\n",
       "  </tbody>\n",
       "</table>\n",
       "</div>"
      ],
      "text/plain": [
       "       no_of_employees   yr_of_estab  prevailing_wage\n",
       "count     25480.000000  25480.000000     25480.000000\n",
       "mean       5667.043210   1979.409929     74455.814592\n",
       "std       22877.928848     42.366929     52815.942327\n",
       "min         -26.000000   1800.000000         2.136700\n",
       "25%        1022.000000   1976.000000     34015.480000\n",
       "50%        2109.000000   1997.000000     70308.210000\n",
       "75%        3504.000000   2005.000000    107735.512500\n",
       "max      602069.000000   2016.000000    319210.270000"
      ]
     },
     "execution_count": 99,
     "metadata": {},
     "output_type": "execute_result"
    }
   ],
   "source": [
    "visa_df.describe()"
   ]
  },
  {
   "cell_type": "markdown",
   "id": "3a191556-d159-4fec-a7e7-5fa903f1373c",
   "metadata": {},
   "source": [
    "# Histogram"
   ]
  },
  {
   "cell_type": "markdown",
   "id": "a4e07040-b2ad-4ba5-b6d3-a7ce2bb92060",
   "metadata": {},
   "source": [
    "- By aplying imperical rule we observed slight deciation in the count of data\n",
    "\n",
    "- also mean is slightly deviated from median\n",
    "\n",
    "- this gives an indication the data does not follows normal distribution\n",
    "\n",
    "- to understand more clearly will visulaize the data\n",
    "\n",
    "- its is Numerical data, so the plot name is : **Histogram**\n",
    "\n",
    "- Histogram is a grapH between class interVals and class interval frequency\n",
    "\n",
    "- The plot is available in **matplotlib**\n",
    "\n",
    "- the method name is **hist**"
   ]
  },
  {
   "cell_type": "code",
   "execution_count": 100,
   "id": "bbbae2a3-cbf0-4b19-8454-de70a2f65b39",
   "metadata": {},
   "outputs": [],
   "source": [
    "# step - 1 : Read the prevaiding wage \n",
    "# step - 1 : plt.hist()"
   ]
  },
  {
   "cell_type": "code",
   "execution_count": 101,
   "id": "cb140dce-add0-447d-aa90-e8f708505a2c",
   "metadata": {
    "scrolled": true
   },
   "outputs": [
    {
     "data": {
      "text/plain": [
       "(array([6038., 5504., 5681., 4551., 2334.,  624.,  373.,  240.,  114.,\n",
       "          21.]),\n",
       " array([2.13670000e+00, 3.19229500e+04, 6.38437634e+04, 9.57645767e+04,\n",
       "        1.27685390e+05, 1.59606203e+05, 1.91527017e+05, 2.23447830e+05,\n",
       "        2.55368643e+05, 2.87289457e+05, 3.19210270e+05]),\n",
       " <BarContainer object of 10 artists>)"
      ]
     },
     "execution_count": 101,
     "metadata": {},
     "output_type": "execute_result"
    },
    {
     "data": {
      "image/png": "[encoded data removed]",
      "text/plain": [
       "<Figure size 640x480 with 1 Axes>"
      ]
     },
     "metadata": {},
     "output_type": "display_data"
    }
   ],
   "source": [
    "plt.hist(visa_df['prevailing_wage'])"
   ]
  },
  {
   "cell_type": "code",
   "execution_count": 102,
   "id": "1c946b85-a5be-4dcd-9fd4-72f7a41582c4",
   "metadata": {
    "scrolled": true
   },
   "outputs": [
    {
     "data": {
      "text/plain": [
       "(array([3863., 2175., 2676., 2828., 2889., 2792., 2485., 2066., 1452.,\n",
       "         882.,  408.,  216.,  206.,  167.,  129.,  111.,   66.,   48.,\n",
       "          10.,   11.]),\n",
       " array([2.13670000e+00, 1.59625434e+04, 3.19229500e+04, 4.78833567e+04,\n",
       "        6.38437634e+04, 7.98041700e+04, 9.57645767e+04, 1.11724983e+05,\n",
       "        1.27685390e+05, 1.43645797e+05, 1.59606203e+05, 1.75566610e+05,\n",
       "        1.91527017e+05, 2.07487423e+05, 2.23447830e+05, 2.39408237e+05,\n",
       "        2.55368643e+05, 2.71329050e+05, 2.87289457e+05, 3.03249863e+05,\n",
       "        3.19210270e+05]),\n",
       " <BarContainer object of 20 artists>)"
      ]
     },
     "execution_count": 102,
     "metadata": {},
     "output_type": "execute_result"
    },
    {
     "data": {
      "image/png": "[encoded data removed]",
      "text/plain": [
       "<Figure size 640x480 with 1 Axes>"
      ]
     },
     "metadata": {},
     "output_type": "display_data"
    }
   ],
   "source": [
    "Wage_data=visa_df['prevailing_wage']\n",
    "plt.hist(Wage_data,bins=20)"
   ]
  },
  {
   "cell_type": "markdown",
   "id": "6308f67d-f433-4f52-89df-f6994259a518",
   "metadata": {},
   "source": [
    "- Histogram will return 3 values\n",
    "\n",
    "      - INterval count\n",
    "\n",
    "      - We have 20 intervals count , so we have 20 Inteval counts\n",
    "\n",
    "      - bins\n",
    "\n",
    "          - bins means number of intervals\n",
    "\n",
    "          - we have 20 intervals so we need 21 values\n",
    "\n",
    "      - Will display how many intervals are availbale\n",
    "\n",
    "- forv example in the bins array the first two forms one interval\n",
    "\n",
    "- 2.136 to 15962.543 the count is 3863\n",
    "\n",
    "- which means 3863 observation of available between 2.13 to 15962.543\n",
    "\n",
    "- similarly 2175 observation are availane between (15962.5434,31922.95)"
   ]
  },
  {
   "cell_type": "code",
   "execution_count": 103,
   "id": "3e77eb8e-ad4c-4023-b2fb-9546f31a52ca",
   "metadata": {},
   "outputs": [
    {
     "data": {
      "text/plain": [
       "15962.5434"
      ]
     },
     "execution_count": 103,
     "metadata": {},
     "output_type": "execute_result"
    }
   ],
   "source": [
    "1.59625434e+04"
   ]
  },
  {
   "cell_type": "code",
   "execution_count": 104,
   "id": "a9ee5479-cbf6-475d-9b16-9297914847af",
   "metadata": {},
   "outputs": [
    {
     "data": {
      "text/plain": [
       "(15962.5434, 31922.95)"
      ]
     },
     "execution_count": 104,
     "metadata": {},
     "output_type": "execute_result"
    }
   ],
   "source": [
    "1.59625434e+04,3.19229500e+04"
   ]
  },
  {
   "cell_type": "code",
   "execution_count": 105,
   "id": "4b365f90-dfe6-481e-97ff-de15c2cc957a",
   "metadata": {
    "scrolled": true
   },
   "outputs": [
    {
     "name": "stdout",
     "output_type": "stream",
     "text": [
      "20\n",
      "21\n",
      "<BarContainer object of 20 artists>\n"
     ]
    },
    {
     "data": {
      "image/png": "[encoded data removed]",
      "text/plain": [
       "<Figure size 640x480 with 1 Axes>"
      ]
     },
     "metadata": {},
     "output_type": "display_data"
    }
   ],
   "source": [
    "Wage_data=visa_df['prevailing_wage']\n",
    "count,bins,x=plt.hist(Wage_data,bins=20)\n",
    "print(len(count))\n",
    "print(len(bins))\n",
    "print(x)"
   ]
  },
  {
   "cell_type": "markdown",
   "id": "425424da-68cb-4b08-a0f9-2caafd58ad8d",
   "metadata": {},
   "source": [
    "**verify below two statement**"
   ]
  },
  {
   "cell_type": "markdown",
   "id": "0d04c9cd-9c8b-4be2-9ff5-8e2121d8e0e8",
   "metadata": {},
   "source": [
    "- which means 3863 observation of available between 2.13 to 15962.543\n",
    "\n",
    "- similarly 2175 observation are availane between (15962.5434,31922.95)"
   ]
  },
  {
   "cell_type": "code",
   "execution_count": 106,
   "id": "436532a3-cb1e-4f14-8e77-4619615bc4dc",
   "metadata": {},
   "outputs": [
    {
     "name": "stdout",
     "output_type": "stream",
     "text": [
      "3862\n"
     ]
    }
   ],
   "source": [
    "lb = 2.13670000e+00\n",
    "ub = 1.59625434e+04\n",
    "\n",
    "con1=visa_df['prevailing_wage'] < ub\n",
    "con2=visa_df['prevailing_wage'] > lb\n",
    "\n",
    "con3=con1&con2\n",
    "print(len(visa_df[con3]))"
   ]
  },
  {
   "cell_type": "code",
   "execution_count": 107,
   "id": "b1deea87-61b7-4cc5-a7ae-aff47a4cfa8c",
   "metadata": {},
   "outputs": [
    {
     "name": "stdout",
     "output_type": "stream",
     "text": [
      "2175\n"
     ]
    }
   ],
   "source": [
    "lb = 1.59625434e+04\n",
    "ub = 3.19229500e+04\n",
    "\n",
    "con1=visa_df['prevailing_wage'] < ub\n",
    "con2=visa_df['prevailing_wage'] > lb\n",
    "\n",
    "con3=con1&con2\n",
    "print(len(visa_df[con3]))"
   ]
  },
  {
   "cell_type": "code",
   "execution_count": 108,
   "id": "73e28591-cd7a-464f-9c75-bb31aed20574",
   "metadata": {},
   "outputs": [
    {
     "data": {
      "text/plain": [
       "array([3863., 2175., 2676., 2828., 2889., 2792., 2485., 2066., 1452.,\n",
       "        882.,  408.,  216.,  206.,  167.,  129.,  111.,   66.,   48.,\n",
       "         10.,   11.])"
      ]
     },
     "execution_count": 108,
     "metadata": {},
     "output_type": "execute_result"
    }
   ],
   "source": [
    "count"
   ]
  },
  {
   "cell_type": "code",
   "execution_count": 109,
   "id": "c95d3f25-910b-48e0-832d-5b66b5711183",
   "metadata": {},
   "outputs": [
    {
     "data": {
      "text/html": [
       "<div>\n",
       "<style scoped>\n",
       "    .dataframe tbody tr th:only-of-type {\n",
       "        vertical-align: middle;\n",
       "    }\n",
       "\n",
       "    .dataframe tbody tr th {\n",
       "        vertical-align: top;\n",
       "    }\n",
       "\n",
       "    .dataframe thead th {\n",
       "        text-align: right;\n",
       "    }\n",
       "</style>\n",
       "<table border=\"1\" class=\"dataframe\">\n",
       "  <thead>\n",
       "    <tr style=\"text-align: right;\">\n",
       "      <th></th>\n",
       "      <th>Intervals</th>\n",
       "      <th>Count</th>\n",
       "    </tr>\n",
       "  </thead>\n",
       "  <tbody>\n",
       "    <tr>\n",
       "      <th>0</th>\n",
       "      <td>2.1367 - 15962.543365000001</td>\n",
       "      <td>3863.0</td>\n",
       "    </tr>\n",
       "    <tr>\n",
       "      <th>1</th>\n",
       "      <td>15962.543365000001 - 31922.950030000004</td>\n",
       "      <td>2175.0</td>\n",
       "    </tr>\n",
       "    <tr>\n",
       "      <th>2</th>\n",
       "      <td>31922.950030000004 - 47883.35669500001</td>\n",
       "      <td>2676.0</td>\n",
       "    </tr>\n",
       "    <tr>\n",
       "      <th>3</th>\n",
       "      <td>47883.35669500001 - 63843.76336000001</td>\n",
       "      <td>2828.0</td>\n",
       "    </tr>\n",
       "    <tr>\n",
       "      <th>4</th>\n",
       "      <td>63843.76336000001 - 79804.17002500001</td>\n",
       "      <td>2889.0</td>\n",
       "    </tr>\n",
       "    <tr>\n",
       "      <th>5</th>\n",
       "      <td>79804.17002500001 - 95764.57669000002</td>\n",
       "      <td>2792.0</td>\n",
       "    </tr>\n",
       "    <tr>\n",
       "      <th>6</th>\n",
       "      <td>95764.57669000002 - 111724.98335500002</td>\n",
       "      <td>2485.0</td>\n",
       "    </tr>\n",
       "    <tr>\n",
       "      <th>7</th>\n",
       "      <td>111724.98335500002 - 127685.39002000002</td>\n",
       "      <td>2066.0</td>\n",
       "    </tr>\n",
       "    <tr>\n",
       "      <th>8</th>\n",
       "      <td>127685.39002000002 - 143645.79668500004</td>\n",
       "      <td>1452.0</td>\n",
       "    </tr>\n",
       "    <tr>\n",
       "      <th>9</th>\n",
       "      <td>143645.79668500004 - 159606.20335000003</td>\n",
       "      <td>882.0</td>\n",
       "    </tr>\n",
       "  </tbody>\n",
       "</table>\n",
       "</div>"
      ],
      "text/plain": [
       "                                 Intervals   Count\n",
       "0              2.1367 - 15962.543365000001  3863.0\n",
       "1  15962.543365000001 - 31922.950030000004  2175.0\n",
       "2   31922.950030000004 - 47883.35669500001  2676.0\n",
       "3    47883.35669500001 - 63843.76336000001  2828.0\n",
       "4    63843.76336000001 - 79804.17002500001  2889.0\n",
       "5    79804.17002500001 - 95764.57669000002  2792.0\n",
       "6   95764.57669000002 - 111724.98335500002  2485.0\n",
       "7  111724.98335500002 - 127685.39002000002  2066.0\n",
       "8  127685.39002000002 - 143645.79668500004  1452.0\n",
       "9  143645.79668500004 - 159606.20335000003   882.0"
      ]
     },
     "execution_count": 109,
     "metadata": {},
     "output_type": "execute_result"
    }
   ],
   "source": [
    "interval = []\n",
    "count_list = []\n",
    "for i in range(10):\n",
    "    intervals = f\"{bins[i]} - {bins[i+1]}\"\n",
    "    # intervals1 = str(intervals)\n",
    "    interval.append(intervals)\n",
    "    count_list.append(count[i])\n",
    "\n",
    "#print(count_list)\n",
    "df2 = pd.DataFrame(zip(interval,count_list),\n",
    "                      columns = ['Intervals','Count'])\n",
    "df2"
   ]
  },
  {
   "cell_type": "code",
   "execution_count": 110,
   "id": "0a8078a2-a512-4673-a125-1393f4ec8dfd",
   "metadata": {},
   "outputs": [],
   "source": [
    "## Import the packages "
   ]
  },
  {
   "cell_type": "code",
   "execution_count": 111,
   "id": "5c99b93c-7923-4c9a-bbb6-2d0dbc96c96d",
   "metadata": {},
   "outputs": [
    {
     "data": {
      "text/plain": [
       "Index(['no_of_employees', 'yr_of_estab', 'prevailing_wage'], dtype='object')"
      ]
     },
     "execution_count": 111,
     "metadata": {},
     "output_type": "execute_result"
    }
   ],
   "source": [
    "import numpy as np\n",
    "import pandas as pd \n",
    "import matplotlib.pyplot as plt \n",
    "import seaborn as sns\n",
    "\n",
    "cat_columns=visa_df.select_dtypes(include='object').columns\n",
    "num_columns=visa_df.select_dtypes(exclude='object').columns\n",
    "num_columns\n"
   ]
  },
  {
   "cell_type": "markdown",
   "id": "44ce8f72-699a-4956-b9d3-fa3cc9e39424",
   "metadata": {},
   "source": [
    "**box plot**\n",
    "\n",
    "\n",
    "- BOX plot is used to idetyfy the outlier \n",
    "\n",
    "- outlier is an ovservaiton having huge positive value or huge negative value\n",
    "\n",
    "- Q1 = 25p , Q2=50p and Q3=75p\n",
    "\n",
    "- IQR = inter Quartile Range Q3-Q1\n",
    "\n",
    "- Q3+1.5* IQR and Q1-1.5 IQR"
   ]
  },
  {
   "cell_type": "code",
   "execution_count": 112,
   "id": "6867bb8f-faec-42df-b6f6-12ec967e6fed",
   "metadata": {},
   "outputs": [
    {
     "data": {
      "image/png": "[encoded data removed]",
      "text/plain": [
       "<Figure size 640x480 with 1 Axes>"
      ]
     },
     "metadata": {},
     "output_type": "display_data"
    }
   ],
   "source": [
    "wage_data=visa_df['prevailing_wage']\n",
    "plt.boxplot(wage_data,vert=False)\n",
    "plt.title('boxplot')\n",
    "plt.xlabel('wages')\n",
    "plt.show()"
   ]
  },
  {
   "cell_type": "code",
   "execution_count": 113,
   "id": "f0052b77-98df-4c30-9a55-1392932520b5",
   "metadata": {},
   "outputs": [
    {
     "data": {
      "image/png": "[encoded data removed]",
      "text/plain": [
       "<Figure size 640x480 with 1 Axes>"
      ]
     },
     "metadata": {},
     "output_type": "display_data"
    }
   ],
   "source": [
    "wage_data=visa_df['prevailing_wage']\n",
    "sns.boxplot(wage_data,orient='h')\n",
    "plt.title('boxplot')\n",
    "plt.xlabel('wages')\n",
    "plt.show()"
   ]
  },
  {
   "cell_type": "code",
   "execution_count": 114,
   "id": "ab010640-c070-459b-b428-098cfcbf0c3f",
   "metadata": {},
   "outputs": [
    {
     "data": {
      "image/png": "[encoded data removed]",
      "text/plain": [
       "<Figure size 640x480 with 1 Axes>"
      ]
     },
     "metadata": {},
     "output_type": "display_data"
    }
   ],
   "source": [
    "wage_data=visa_df['prevailing_wage']\n",
    "plt.boxplot(wage_data,vert=False)\n",
    "plt.title('boxplot')\n",
    "plt.xlabel('wages')\n",
    "plt.show()"
   ]
  },
  {
   "cell_type": "code",
   "execution_count": 115,
   "id": "2bafa3ce-3e0e-4af1-b2cc-3f2386a449b0",
   "metadata": {},
   "outputs": [
    {
     "data": {
      "image/png": "[encoded data removed]",
      "text/plain": [
       "<Figure size 1400x300 with 2 Axes>"
      ]
     },
     "metadata": {},
     "output_type": "display_data"
    }
   ],
   "source": [
    "wage_data=visa_df['prevailing_wage']\n",
    "plt.figure(figsize=(14,3))\n",
    "plt.suptitle('Comparison of Histogram with Boxplot')\n",
    "plt.subplot(1,2,1)\n",
    "plt.hist(wage_data,bins=20)\n",
    "plt.xlabel('Histogram')\n",
    "plt.subplot(1,2,2)\n",
    "plt.boxplot(wage_data,vert=False)\n",
    "plt.xlabel('boxplot')\n",
    "plt.show()"
   ]
  },
  {
   "cell_type": "code",
   "execution_count": 116,
   "id": "b220f3ec-d339-48fd-a515-5485e321ac64",
   "metadata": {},
   "outputs": [
    {
     "data": {
      "image/png": "[encoded data removed]",
      "text/plain": [
       "<Figure size 1400x300 with 2 Axes>"
      ]
     },
     "metadata": {},
     "output_type": "display_data"
    }
   ],
   "source": [
    "wage_data=visa_df['prevailing_wage']\n",
    "plt.figure(figsize=(14,3))\n",
    "plt.suptitle('Comparison of Histogram with Boxplot')\n",
    "plt.subplot(1,2,1).hist(wage_data,bins=20)\n",
    "plt.xlabel('Histogram')\n",
    "plt.subplot(1,2,2).boxplot(wage_data,vert=False)\n",
    "plt.xlabel('boxplot')\n",
    "plt.show()"
   ]
  },
  {
   "cell_type": "code",
   "execution_count": 117,
   "id": "988ea4dc-d972-4f16-8a4a-d56a8017910e",
   "metadata": {},
   "outputs": [
    {
     "data": {
      "image/png": "[encoded data removed]",
      "text/plain": [
       "<Figure size 1400x300 with 3 Axes>"
      ]
     },
     "metadata": {},
     "output_type": "display_data"
    }
   ],
   "source": [
    "wage_data=visa_df['prevailing_wage']\n",
    "plt.figure(figsize=(14,3))\n",
    "plt.suptitle('Comparison of Histogram with Boxplot')\n",
    "plt.subplot(2,2,1)\n",
    "plt.hist(wage_data,bins=25)\n",
    "plt.xlabel('Histogram')\n",
    "plt.subplot(2,2,2)\n",
    "plt.boxplot(wage_data,vert=False)\n",
    "plt.xlabel('boxplot')\n",
    "plt.hist(wage_data,bins=20)\n",
    "plt.xlabel('Histogram')\n",
    "plt.subplot(2,2,3)\n",
    "plt.boxplot(wage_data,vert=False)\n",
    "plt.xlabel('boxplot')\n",
    "plt.hist(wage_data,bins=20)\n",
    "plt.xlabel('Histogram')\n",
    "plt.subplot(2,2,3)\n",
    "plt.boxplot(wage_data,vert=False)\n",
    "plt.xlabel('boxplot')\n",
    "plt.show()"
   ]
  },
  {
   "cell_type": "markdown",
   "id": "414a0703-1119-42f0-a902-ad64b2d6a33b",
   "metadata": {},
   "source": [
    "**Find the the outliers**\n",
    "\n",
    "- we already know that outliers available less than Q1-1.5*IQR and Q3+1.5*IQR\n",
    "\n",
    "- step-1: \n",
    "\n",
    "     - calculate Q1 = 25\n",
    "\n",
    "     - calculate Q2 = 50\n",
    "\n",
    "     - calculate Q3 = 75\n",
    "\n",
    "- step-2: \n",
    "\n",
    "        Calculate IQR = Q3-Q1\n",
    "\n",
    "- step-3: \n",
    "\n",
    "        Calculate lb =Q3-1.5*IQR\n",
    "\n",
    "        Calculate ub =Q3+1.5*IQR\n",
    "\n",
    "- step-4: \n",
    "\n",
    "        con1 = wage_data < Lb\n",
    "\n",
    "        con1 = wage_data < Ub\n",
    "\n",
    "        con3= con1 or con2 (use bitwise oprater)\n",
    "\n",
    "- step-5 : Data[con3]"
   ]
  },
  {
   "cell_type": "code",
   "execution_count": null,
   "id": "8de788e9-be20-4372-bb68-3cf94a3f5e3e",
   "metadata": {},
   "outputs": [],
   "source": []
  },
  {
   "cell_type": "code",
   "execution_count": 118,
   "id": "16279069-d5e7-48b1-acba-d3e15f0df3dd",
   "metadata": {},
   "outputs": [
    {
     "data": {
      "text/plain": [
       "0           592.2029\n",
       "1         83425.6500\n",
       "2        122996.8600\n",
       "3         83434.0300\n",
       "4        149907.3900\n",
       "            ...     \n",
       "25474     51104.7800\n",
       "25475     77092.5700\n",
       "25477    146298.8500\n",
       "25478     86154.7700\n",
       "25479     70876.9100\n",
       "Name: prevailing_wage, Length: 25053, dtype: float64"
      ]
     },
     "execution_count": 118,
     "metadata": {},
     "output_type": "execute_result"
    }
   ],
   "source": [
    "Q1=np.percentile(wage_data,25)\n",
    "Q2=np.percentile(wage_data,50)\n",
    "Q3=np.percentile(wage_data,75)\n",
    "\n",
    "IQR=Q3-Q1\n",
    "\n",
    "lb = Q1-1.5*IQR\n",
    "ub = Q3+1.5*IQR\n",
    "\n",
    "con1=wage_data < ub\n",
    "con2=wage_data > lb\n",
    "\n",
    "con3=con1 & con2 \n",
    "\n",
    "# Bitwise operateors used to compare \n",
    "# Bits data === 0 and 1 ==== True False \n",
    "\n",
    "non_outliers_data=wage_data[con3]\n",
    "non_outliers_data"
   ]
  },
  {
   "cell_type": "code",
   "execution_count": 119,
   "id": "c7491203-3625-4b6a-8f0c-07e4b4b2a2b0",
   "metadata": {},
   "outputs": [
    {
     "data": {
      "text/html": [
       "<div>\n",
       "<style scoped>\n",
       "    .dataframe tbody tr th:only-of-type {\n",
       "        vertical-align: middle;\n",
       "    }\n",
       "\n",
       "    .dataframe tbody tr th {\n",
       "        vertical-align: top;\n",
       "    }\n",
       "\n",
       "    .dataframe thead th {\n",
       "        text-align: right;\n",
       "    }\n",
       "</style>\n",
       "<table border=\"1\" class=\"dataframe\">\n",
       "  <thead>\n",
       "    <tr style=\"text-align: right;\">\n",
       "      <th></th>\n",
       "      <th>case_id</th>\n",
       "      <th>continent</th>\n",
       "      <th>education_of_employee</th>\n",
       "      <th>has_job_experience</th>\n",
       "      <th>requires_job_training</th>\n",
       "      <th>no_of_employees</th>\n",
       "      <th>yr_of_estab</th>\n",
       "      <th>region_of_employment</th>\n",
       "      <th>prevailing_wage</th>\n",
       "      <th>unit_of_wage</th>\n",
       "      <th>full_time_position</th>\n",
       "      <th>case_status</th>\n",
       "    </tr>\n",
       "  </thead>\n",
       "  <tbody>\n",
       "    <tr>\n",
       "      <th>0</th>\n",
       "      <td>EZYV01</td>\n",
       "      <td>Asia</td>\n",
       "      <td>High School</td>\n",
       "      <td>N</td>\n",
       "      <td>N</td>\n",
       "      <td>14513</td>\n",
       "      <td>2007</td>\n",
       "      <td>West</td>\n",
       "      <td>592.2029</td>\n",
       "      <td>Hour</td>\n",
       "      <td>Y</td>\n",
       "      <td>Denied</td>\n",
       "    </tr>\n",
       "    <tr>\n",
       "      <th>1</th>\n",
       "      <td>EZYV02</td>\n",
       "      <td>Asia</td>\n",
       "      <td>Master's</td>\n",
       "      <td>Y</td>\n",
       "      <td>N</td>\n",
       "      <td>2412</td>\n",
       "      <td>2002</td>\n",
       "      <td>Northeast</td>\n",
       "      <td>83425.6500</td>\n",
       "      <td>Year</td>\n",
       "      <td>Y</td>\n",
       "      <td>Certified</td>\n",
       "    </tr>\n",
       "    <tr>\n",
       "      <th>2</th>\n",
       "      <td>EZYV03</td>\n",
       "      <td>Asia</td>\n",
       "      <td>Bachelor's</td>\n",
       "      <td>N</td>\n",
       "      <td>Y</td>\n",
       "      <td>44444</td>\n",
       "      <td>2008</td>\n",
       "      <td>West</td>\n",
       "      <td>122996.8600</td>\n",
       "      <td>Year</td>\n",
       "      <td>Y</td>\n",
       "      <td>Denied</td>\n",
       "    </tr>\n",
       "    <tr>\n",
       "      <th>3</th>\n",
       "      <td>EZYV04</td>\n",
       "      <td>Asia</td>\n",
       "      <td>Bachelor's</td>\n",
       "      <td>N</td>\n",
       "      <td>N</td>\n",
       "      <td>98</td>\n",
       "      <td>1897</td>\n",
       "      <td>West</td>\n",
       "      <td>83434.0300</td>\n",
       "      <td>Year</td>\n",
       "      <td>Y</td>\n",
       "      <td>Denied</td>\n",
       "    </tr>\n",
       "    <tr>\n",
       "      <th>4</th>\n",
       "      <td>EZYV05</td>\n",
       "      <td>Africa</td>\n",
       "      <td>Master's</td>\n",
       "      <td>Y</td>\n",
       "      <td>N</td>\n",
       "      <td>1082</td>\n",
       "      <td>2005</td>\n",
       "      <td>South</td>\n",
       "      <td>149907.3900</td>\n",
       "      <td>Year</td>\n",
       "      <td>Y</td>\n",
       "      <td>Certified</td>\n",
       "    </tr>\n",
       "    <tr>\n",
       "      <th>...</th>\n",
       "      <td>...</td>\n",
       "      <td>...</td>\n",
       "      <td>...</td>\n",
       "      <td>...</td>\n",
       "      <td>...</td>\n",
       "      <td>...</td>\n",
       "      <td>...</td>\n",
       "      <td>...</td>\n",
       "      <td>...</td>\n",
       "      <td>...</td>\n",
       "      <td>...</td>\n",
       "      <td>...</td>\n",
       "    </tr>\n",
       "    <tr>\n",
       "      <th>25474</th>\n",
       "      <td>EZYV25475</td>\n",
       "      <td>Africa</td>\n",
       "      <td>Doctorate</td>\n",
       "      <td>N</td>\n",
       "      <td>N</td>\n",
       "      <td>2594</td>\n",
       "      <td>1979</td>\n",
       "      <td>Northeast</td>\n",
       "      <td>51104.7800</td>\n",
       "      <td>Year</td>\n",
       "      <td>Y</td>\n",
       "      <td>Certified</td>\n",
       "    </tr>\n",
       "    <tr>\n",
       "      <th>25475</th>\n",
       "      <td>EZYV25476</td>\n",
       "      <td>Asia</td>\n",
       "      <td>Bachelor's</td>\n",
       "      <td>Y</td>\n",
       "      <td>Y</td>\n",
       "      <td>2601</td>\n",
       "      <td>2008</td>\n",
       "      <td>South</td>\n",
       "      <td>77092.5700</td>\n",
       "      <td>Year</td>\n",
       "      <td>Y</td>\n",
       "      <td>Certified</td>\n",
       "    </tr>\n",
       "    <tr>\n",
       "      <th>25477</th>\n",
       "      <td>EZYV25478</td>\n",
       "      <td>Asia</td>\n",
       "      <td>Master's</td>\n",
       "      <td>Y</td>\n",
       "      <td>N</td>\n",
       "      <td>1121</td>\n",
       "      <td>1910</td>\n",
       "      <td>South</td>\n",
       "      <td>146298.8500</td>\n",
       "      <td>Year</td>\n",
       "      <td>N</td>\n",
       "      <td>Certified</td>\n",
       "    </tr>\n",
       "    <tr>\n",
       "      <th>25478</th>\n",
       "      <td>EZYV25479</td>\n",
       "      <td>Asia</td>\n",
       "      <td>Master's</td>\n",
       "      <td>Y</td>\n",
       "      <td>Y</td>\n",
       "      <td>1918</td>\n",
       "      <td>1887</td>\n",
       "      <td>West</td>\n",
       "      <td>86154.7700</td>\n",
       "      <td>Year</td>\n",
       "      <td>Y</td>\n",
       "      <td>Certified</td>\n",
       "    </tr>\n",
       "    <tr>\n",
       "      <th>25479</th>\n",
       "      <td>EZYV25480</td>\n",
       "      <td>Asia</td>\n",
       "      <td>Bachelor's</td>\n",
       "      <td>Y</td>\n",
       "      <td>N</td>\n",
       "      <td>3195</td>\n",
       "      <td>1960</td>\n",
       "      <td>Midwest</td>\n",
       "      <td>70876.9100</td>\n",
       "      <td>Year</td>\n",
       "      <td>Y</td>\n",
       "      <td>Certified</td>\n",
       "    </tr>\n",
       "  </tbody>\n",
       "</table>\n",
       "<p>25053 rows × 12 columns</p>\n",
       "</div>"
      ],
      "text/plain": [
       "         case_id continent education_of_employee has_job_experience  \\\n",
       "0         EZYV01      Asia           High School                  N   \n",
       "1         EZYV02      Asia              Master's                  Y   \n",
       "2         EZYV03      Asia            Bachelor's                  N   \n",
       "3         EZYV04      Asia            Bachelor's                  N   \n",
       "4         EZYV05    Africa              Master's                  Y   \n",
       "...          ...       ...                   ...                ...   \n",
       "25474  EZYV25475    Africa             Doctorate                  N   \n",
       "25475  EZYV25476      Asia            Bachelor's                  Y   \n",
       "25477  EZYV25478      Asia              Master's                  Y   \n",
       "25478  EZYV25479      Asia              Master's                  Y   \n",
       "25479  EZYV25480      Asia            Bachelor's                  Y   \n",
       "\n",
       "      requires_job_training  no_of_employees  yr_of_estab  \\\n",
       "0                         N            14513         2007   \n",
       "1                         N             2412         2002   \n",
       "2                         Y            44444         2008   \n",
       "3                         N               98         1897   \n",
       "4                         N             1082         2005   \n",
       "...                     ...              ...          ...   \n",
       "25474                     N             2594         1979   \n",
       "25475                     Y             2601         2008   \n",
       "25477                     N             1121         1910   \n",
       "25478                     Y             1918         1887   \n",
       "25479                     N             3195         1960   \n",
       "\n",
       "      region_of_employment  prevailing_wage unit_of_wage full_time_position  \\\n",
       "0                     West         592.2029         Hour                  Y   \n",
       "1                Northeast       83425.6500         Year                  Y   \n",
       "2                     West      122996.8600         Year                  Y   \n",
       "3                     West       83434.0300         Year                  Y   \n",
       "4                    South      149907.3900         Year                  Y   \n",
       "...                    ...              ...          ...                ...   \n",
       "25474            Northeast       51104.7800         Year                  Y   \n",
       "25475                South       77092.5700         Year                  Y   \n",
       "25477                South      146298.8500         Year                  N   \n",
       "25478                 West       86154.7700         Year                  Y   \n",
       "25479              Midwest       70876.9100         Year                  Y   \n",
       "\n",
       "      case_status  \n",
       "0          Denied  \n",
       "1       Certified  \n",
       "2          Denied  \n",
       "3          Denied  \n",
       "4       Certified  \n",
       "...           ...  \n",
       "25474   Certified  \n",
       "25475   Certified  \n",
       "25477   Certified  \n",
       "25478   Certified  \n",
       "25479   Certified  \n",
       "\n",
       "[25053 rows x 12 columns]"
      ]
     },
     "execution_count": 119,
     "metadata": {},
     "output_type": "execute_result"
    }
   ],
   "source": [
    "non_outliers_df=visa_df[con3] \n",
    "non_outliers_df"
   ]
  },
  {
   "cell_type": "markdown",
   "id": "319dde61-3f7e-4c00-acd0-7c04ddc0273f",
   "metadata": {},
   "source": [
    "-We have two dataframe \n",
    "\n",
    "- visa_df : Total data 25480\n",
    "\n",
    "- non_outliers_df After removing outliers 25053\n",
    "\n",
    "- first plot nonoutliers data prewling wage histogram and boxplot"
   ]
  },
  {
   "cell_type": "code",
   "execution_count": 120,
   "id": "de7ca264-d27a-40e1-a7ba-81de0dba1be1",
   "metadata": {},
   "outputs": [
    {
     "data": {
      "image/png": "[encoded data removed]",
      "text/plain": [
       "<Figure size 1400x300 with 2 Axes>"
      ]
     },
     "metadata": {},
     "output_type": "display_data"
    }
   ],
   "source": [
    "wage_data_non_outliers=non_outliers_df['prevailing_wage']\n",
    "plt.figure(figsize=(14,3))\n",
    "plt.suptitle('Comparison of Histogram with Boxplot')\n",
    "plt.subplot(1,2,1).hist(wage_data_non_outliers,bins=20)\n",
    "plt.xlabel('Histogram')\n",
    "plt.subplot(1,2,2).boxplot(wage_data_non_outliers,vert=False)\n",
    "plt.xlabel('boxplot')\n",
    "plt.show()"
   ]
  },
  {
   "cell_type": "code",
   "execution_count": 121,
   "id": "78ebe494-0763-4b91-9ad6-13b3ea6d7ee6",
   "metadata": {},
   "outputs": [
    {
     "data": {
      "image/png": "[encoded data removed]",
      "text/plain": [
       "<Figure size 1400x300 with 4 Axes>"
      ]
     },
     "metadata": {},
     "output_type": "display_data"
    }
   ],
   "source": [
    "wage_data_non_outliers=non_outliers_df['prevailing_wage']\n",
    "wage_data=visa_df['prevailing_wage']\n",
    "plt.figure(figsize=(14,3))\n",
    "plt.suptitle('Comparison of Histogram with Boxplot')\n",
    "plt.subplot(2,2,1).hist(wage_data_non_outliers,bins=20)\n",
    "plt.xlabel('Histogram')\n",
    "plt.subplot(2,2,2).boxplot(wage_data_non_outliers,vert=False)\n",
    "plt.xlabel('boxplot')\n",
    "plt.subplot(2,2,3).hist(wage_data_non_outliers,bins=20)\n",
    "plt.xlabel('Histogram')\n",
    "plt.subplot(2,2,4).boxplot(wage_data_non_outliers,vert=False)\n",
    "plt.xlabel('boxplot')\n",
    "\n",
    "plt.show()"
   ]
  },
  {
   "cell_type": "code",
   "execution_count": null,
   "id": "843958be-b504-4a64-b51f-e284ccb17622",
   "metadata": {},
   "outputs": [],
   "source": []
  },
  {
   "cell_type": "code",
   "execution_count": 122,
   "id": "0e1f28d2-61b9-4a7e-b170-c9ee92233633",
   "metadata": {},
   "outputs": [],
   "source": [
    "# fill the outliers of wage data with wage median \n",
    "# 427 outliers\n",
    "# 427 should replace with median value \n",
    "# again draw the plots"
   ]
  },
  {
   "cell_type": "code",
   "execution_count": null,
   "id": "7c7aecc1-da42-423c-8af9-6bc5ec83b910",
   "metadata": {},
   "outputs": [],
   "source": []
  },
  {
   "cell_type": "code",
   "execution_count": 123,
   "id": "ad03fa21-3b9e-403a-b938-bb58ee133182",
   "metadata": {},
   "outputs": [
    {
     "data": {
      "image/png": "[encoded data removed]",
      "text/plain": [
       "<Figure size 1400x800 with 1 Axes>"
      ]
     },
     "metadata": {},
     "output_type": "display_data"
    }
   ],
   "source": [
    "wage_data_non_outliers=non_outliers_df['prevailing_wage']\n",
    "wage_data=visa_df['prevailing_wage']\n",
    "\n",
    "plt.figure(figsize=(14,8))\n",
    "plt.hist(wage_data)\n",
    "plt.hist(wage_data_non_outliers)       \n",
    "plt.show()"
   ]
  },
  {
   "cell_type": "markdown",
   "id": "84ffc904-2fcc-4bb2-914f-56cb32b111dc",
   "metadata": {},
   "source": [
    " # how to feel the outliers\n",
    "\n",
    "- 1. we can drop the outliers \n",
    "\n",
    "    - Droping outliers is an easy task, but not recommended\n",
    " \n",
    "    - if you drop the outlies we are droping the rows\n",
    " \n",
    "    - which means we are droping the other column values also\n",
    " \n",
    "    - May be some imprtant information we might loose from other conlumns\n",
    " \n",
    "    - but in industry if outliers percentage less than 2% of the total data, we can drop\n",
    " \n",
    "    - the number of outliers in pwage is 427\n",
    " \n",
    "    - the number of total observation are 25480\n",
    " \n",
    "    - the percentage is 1.67 which is less than 2%\n",
    " \n",
    "- 2. - Fill with median value\n",
    "\n",
    "       - we already know that outliers does not affect by median\n",
    "\n",
    "       - so it is the best practice to fill he outliers with median \n",
    " \n",
    "- 3. - Capping or florring\n",
    "    \n",
    "     - instead of fill with median\n",
    "    \n",
    "     - we can fill with certain values\n",
    "    \n",
    "     - the ouliers which are less than lb fill with lb value\n",
    "    \n",
    "     - the outliers which are greater than ub fill with ub value\n",
    "    \n",
    "**Isolation forest**\n",
    "\n",
    "       - Is ML models used to find the outliers and anamolies\n"
   ]
  },
  {
   "cell_type": "markdown",
   "id": "ebaa6414-d21f-4f0e-9280-c4e73ecd38e7",
   "metadata": {},
   "source": [
    "# Fill with median value"
   ]
  },
  {
   "cell_type": "code",
   "execution_count": 124,
   "id": "2cd6156d-2edf-4b4e-a5f7-e899f73096aa",
   "metadata": {},
   "outputs": [
    {
     "data": {
      "image/png": "[encoded data removed]",
      "text/plain": [
       "<Figure size 640x480 with 1 Axes>"
      ]
     },
     "metadata": {},
     "output_type": "display_data"
    }
   ],
   "source": [
    "wage_data=visa_df['prevailing_wage']\n",
    "q1=round(np.percentile(visa_df['prevailing_wage'],25),2)\n",
    "q2=round(np.percentile(visa_df['prevailing_wage'],50),2)\n",
    "q3=round(np.percentile(visa_df['prevailing_wage'],75),2)\n",
    "IQR=q3-q1\n",
    "lb=q1-1.5*IQR\n",
    "ub=q3+1.5*IQR\n",
    "con1=wage_data<lb\n",
    "con2=wage_data>ub\n",
    "con3=con1|con2\n",
    "con3\n",
    "# Bitwise operators used to compare \n",
    "# Bits data ==== 0 and 1 == True False\n",
    "outliers_data=wage_data[con3]\n",
    "outliers_data\n",
    "median=outliers_data.median()\n",
    "for i in outliers_data:\n",
    "    a=outliers_data.replace(i,median)\n",
    "    plt.boxplot(a,vert=False)"
   ]
  },
  {
   "cell_type": "markdown",
   "id": "4ca870fd-dd45-4f46-9b9f-eaefd92dfe4c",
   "metadata": {},
   "source": [
    "**np.where**\n",
    "\n",
    "- IN numpy we have method called where \n",
    "\n",
    "- it takes three arguments \n",
    "\n",
    "    1. condition \n",
    "\n",
    "    2. value if condition is True\n",
    "\n",
    "    3. Value condition is False \n",
    "\n",
    "- It is applicable for only binary menas if and else \n",
    "\n",
    "\n"
   ]
  },
  {
   "cell_type": "code",
   "execution_count": 125,
   "id": "9b3f4c2f-93b0-4feb-8a2e-9651e8c80bae",
   "metadata": {},
   "outputs": [],
   "source": [
    "# for value in wage_data :\n",
    "#     print(value)<lb or value >ub:\n",
    "#         median=wage_data.median()\n",
    "#         list1.append(median)\n",
    "#     else: \n",
    "#         list1.append(value)"
   ]
  },
  {
   "cell_type": "code",
   "execution_count": 126,
   "id": "7892a528-da64-4404-91fb-2abefe69cf57",
   "metadata": {},
   "outputs": [
    {
     "data": {
      "text/html": [
       "<div>\n",
       "<style scoped>\n",
       "    .dataframe tbody tr th:only-of-type {\n",
       "        vertical-align: middle;\n",
       "    }\n",
       "\n",
       "    .dataframe tbody tr th {\n",
       "        vertical-align: top;\n",
       "    }\n",
       "\n",
       "    .dataframe thead th {\n",
       "        text-align: right;\n",
       "    }\n",
       "</style>\n",
       "<table border=\"1\" class=\"dataframe\">\n",
       "  <thead>\n",
       "    <tr style=\"text-align: right;\">\n",
       "      <th></th>\n",
       "      <th>sub</th>\n",
       "      <th>marks</th>\n",
       "    </tr>\n",
       "  </thead>\n",
       "  <tbody>\n",
       "    <tr>\n",
       "      <th>0</th>\n",
       "      <td>DS</td>\n",
       "      <td>100</td>\n",
       "    </tr>\n",
       "    <tr>\n",
       "      <th>1</th>\n",
       "      <td>DE</td>\n",
       "      <td>200</td>\n",
       "    </tr>\n",
       "    <tr>\n",
       "      <th>2</th>\n",
       "      <td>CS</td>\n",
       "      <td>300</td>\n",
       "    </tr>\n",
       "  </tbody>\n",
       "</table>\n",
       "</div>"
      ],
      "text/plain": [
       "  sub  marks\n",
       "0  DS    100\n",
       "1  DE    200\n",
       "2  CS    300"
      ]
     },
     "execution_count": 126,
     "metadata": {},
     "output_type": "execute_result"
    }
   ],
   "source": [
    "import pandas as pd \n",
    "dict1={'sub':['DS','DE','CS'],'marks':[100,200,300]}\n",
    "df=pd.DataFrame(dict1)\n",
    "df"
   ]
  },
  {
   "cell_type": "code",
   "execution_count": 127,
   "id": "6b22378c-9a0e-4813-85f3-194d88a68d74",
   "metadata": {},
   "outputs": [
    {
     "data": {
      "text/html": [
       "<div>\n",
       "<style scoped>\n",
       "    .dataframe tbody tr th:only-of-type {\n",
       "        vertical-align: middle;\n",
       "    }\n",
       "\n",
       "    .dataframe tbody tr th {\n",
       "        vertical-align: top;\n",
       "    }\n",
       "\n",
       "    .dataframe thead th {\n",
       "        text-align: right;\n",
       "    }\n",
       "</style>\n",
       "<table border=\"1\" class=\"dataframe\">\n",
       "  <thead>\n",
       "    <tr style=\"text-align: right;\">\n",
       "      <th></th>\n",
       "      <th>sub</th>\n",
       "      <th>marks</th>\n",
       "    </tr>\n",
       "  </thead>\n",
       "  <tbody>\n",
       "    <tr>\n",
       "      <th>0</th>\n",
       "      <td>DS</td>\n",
       "      <td>100</td>\n",
       "    </tr>\n",
       "    <tr>\n",
       "      <th>1</th>\n",
       "      <td>DE</td>\n",
       "      <td>1</td>\n",
       "    </tr>\n",
       "    <tr>\n",
       "      <th>2</th>\n",
       "      <td>CS</td>\n",
       "      <td>1</td>\n",
       "    </tr>\n",
       "  </tbody>\n",
       "</table>\n",
       "</div>"
      ],
      "text/plain": [
       "  sub  marks\n",
       "0  DS    100\n",
       "1  DE      1\n",
       "2  CS      1"
      ]
     },
     "execution_count": 127,
     "metadata": {},
     "output_type": "execute_result"
    }
   ],
   "source": [
    "l=[]\n",
    "for i in df.marks:\n",
    "    if i >100:\n",
    "        l.append(1)    \n",
    "    else:\n",
    "        l.append(i)\n",
    "df['marks']=l\n",
    "df      \n"
   ]
  },
  {
   "cell_type": "code",
   "execution_count": 128,
   "id": "abf1cbbf-8f81-4fef-86f5-7082ca1f662e",
   "metadata": {},
   "outputs": [
    {
     "data": {
      "text/html": [
       "<div>\n",
       "<style scoped>\n",
       "    .dataframe tbody tr th:only-of-type {\n",
       "        vertical-align: middle;\n",
       "    }\n",
       "\n",
       "    .dataframe tbody tr th {\n",
       "        vertical-align: top;\n",
       "    }\n",
       "\n",
       "    .dataframe thead th {\n",
       "        text-align: right;\n",
       "    }\n",
       "</style>\n",
       "<table border=\"1\" class=\"dataframe\">\n",
       "  <thead>\n",
       "    <tr style=\"text-align: right;\">\n",
       "      <th></th>\n",
       "      <th>sub</th>\n",
       "      <th>marks</th>\n",
       "    </tr>\n",
       "  </thead>\n",
       "  <tbody>\n",
       "    <tr>\n",
       "      <th>0</th>\n",
       "      <td>DS</td>\n",
       "      <td>100</td>\n",
       "    </tr>\n",
       "    <tr>\n",
       "      <th>1</th>\n",
       "      <td>DE</td>\n",
       "      <td>1</td>\n",
       "    </tr>\n",
       "    <tr>\n",
       "      <th>2</th>\n",
       "      <td>CS</td>\n",
       "      <td>1</td>\n",
       "    </tr>\n",
       "  </tbody>\n",
       "</table>\n",
       "</div>"
      ],
      "text/plain": [
       "  sub  marks\n",
       "0  DS    100\n",
       "1  DE      1\n",
       "2  CS      1"
      ]
     },
     "execution_count": 128,
     "metadata": {},
     "output_type": "execute_result"
    }
   ],
   "source": [
    "import numpy as np \n",
    "con=df['marks']>100\n",
    "l=np.where(con,1,df['marks'])\n",
    "df['marks']=l\n",
    "df"
   ]
  },
  {
   "cell_type": "code",
   "execution_count": 131,
   "id": "acf2ac49-7c62-42a4-bd1a-dcb37f029267",
   "metadata": {},
   "outputs": [
    {
     "data": {
      "text/plain": [
       "array([   592.2029,  83425.65  , 122996.86  , ..., 146298.85  ,\n",
       "        86154.77  ,  70876.91  ])"
      ]
     },
     "execution_count": 131,
     "metadata": {},
     "output_type": "execute_result"
    }
   ],
   "source": [
    "# implement for the outliers\n",
    "\n",
    "wage_data=visa_df['prevailing_wage']\n",
    "con1=wage_data<lb\n",
    "con1=wage_data>ub\n",
    "con= con1 | con2\n",
    "wage_med=wage_data.median()\n",
    "l=np.where(con,wage_med,wage_data)\n",
    "l"
   ]
  },
  {
   "cell_type": "code",
   "execution_count": null,
   "id": "0be65e7f-65fc-4031-b803-865f51088e86",
   "metadata": {},
   "outputs": [],
   "source": []
  },
  {
   "cell_type": "code",
   "execution_count": 133,
   "id": "6028e3a0-ac19-48c7-bb8a-77b4efef9bfd",
   "metadata": {},
   "outputs": [],
   "source": [
    "visa_df['prevailing_wage_update']=l"
   ]
  },
  {
   "cell_type": "code",
   "execution_count": 135,
   "id": "0923777e-845f-4009-b0bf-b81dd591642b",
   "metadata": {},
   "outputs": [
    {
     "data": {
      "text/plain": [
       "(array([4580., 3368., 3890., 4369., 3507., 2860., 1643.,  706.,  295.,\n",
       "         262.]),\n",
       " array([2.13670000e+00, 2.18113840e+04, 4.36206314e+04, 6.54298787e+04,\n",
       "        8.72391260e+04, 1.09048373e+05, 1.30857621e+05, 1.52666868e+05,\n",
       "        1.74476115e+05, 1.96285363e+05, 2.18094610e+05]),\n",
       " <BarContainer object of 10 artists>)"
      ]
     },
     "execution_count": 135,
     "metadata": {},
     "output_type": "execute_result"
    },
    {
     "data": {
      "image/png": "[encoded data removed]",
      "text/plain": [
       "<Figure size 640x480 with 2 Axes>"
      ]
     },
     "metadata": {},
     "output_type": "display_data"
    }
   ],
   "source": [
    "plt.subplot(1,2,1).boxplot(visa_df['prevailing_wage_update'])\n",
    "plt.subplot(1,2,2).hist(visa_df['prevailing_wage_update'])"
   ]
  },
  {
   "cell_type": "code",
   "execution_count": null,
   "id": "b803cc28-4f1e-4a2a-bf50-fcfcce5b484b",
   "metadata": {},
   "outputs": [],
   "source": [
    "visa_df['case_continents'].value_counts()"
   ]
  },
  {
   "cell_type": "markdown",
   "id": "f31f462a-cdce-4978-9a55-b5febc4eb72a",
   "metadata": {},
   "source": [
    "**task**\n",
    "\n",
    "- find the certified obeservation continet wise \n",
    "\n",
    "- Find the Denied obsevation continent wise \n"
   ]
  },
  {
   "cell_type": "code",
   "execution_count": null,
   "id": "b5b64f5d-a078-4822-9b4a-fd7ee68234b8",
   "metadata": {},
   "outputs": [],
   "source": [
    "# step - 1 make the first condition continent=='Asia'\n",
    "# step - 2 make the first condition case_status=='certified'\n",
    "# step - 3 make the first condition continent : con1 & con2\n",
    "# step - 4 the retrive the dataframe and take the count \n",
    "\n",
    "con1=visa_df['continent']=='Asia'\n",
    "con2=visa_df['case_status']=='Certified'\n",
    "con3=con1 & con2\n",
    "len(visa_df[con3])"
   ]
  },
  {
   "cell_type": "code",
   "execution_count": null,
   "id": "1238e2f4-6489-4378-82b5-2db658a675f9",
   "metadata": {},
   "outputs": [],
   "source": [
    "visa_df['continent'].unique()\n",
    "visa_df['continent'].value_counts().keys()"
   ]
  },
  {
   "cell_type": "code",
   "execution_count": null,
   "id": "ec7f54aa-330f-4579-96ab-e6d5f50e6c48",
   "metadata": {},
   "outputs": [],
   "source": [
    "continents=visa_df['continent'].unique()\n",
    "for i in continents:\n",
    "    con1=visa_df['continent']==i\n",
    "    con1=visa_df['case_status']=='Certified'\n",
    "    con2=visa_df['case_status']=='Denied'\n",
    "    cert_con=con1 & con2\n",
    "    den_con=con2 & con3\n",
    "    cert_count=len(visa_df[cert_con])\n",
    "     den_count=len(visa_df[den_con])\n",
    "    print(f\"the number of certified visa from{i} is : {cert_count}\")\n",
    "    print(f\"the number of denied visa from{i} is : {den_count}\")\n",
    "    certified_list.append(cert_count)\n",
    "    denied_list.append(den_count)"
   ]
  },
  {
   "cell_type": "code",
   "execution_count": null,
   "id": "dc90f81b-55fb-47f4-9c9c-217c5582b3b2",
   "metadata": {},
   "outputs": [],
   "source": [
    "con1=visa_df['continent']=='Europe'\n",
    "con2=visa_df['case_status']=='Certified'\n",
    "con3=con1 & con2\n",
    "len(visa_df[con3])"
   ]
  },
  {
   "cell_type": "code",
   "execution_count": null,
   "id": "a4b42e8b-2722-4a68-9193-fa576ae45403",
   "metadata": {},
   "outputs": [],
   "source": [
    "# DF\n",
    "\n",
    "continents\n",
    "Certified_list\n",
    "cols=['Continent','Certified']\n",
    "df1=pd.DataFrame(zip(continents,certified_list),\n",
    "                columns=cols)"
   ]
  },
  {
   "cell_type": "code",
   "execution_count": null,
   "id": "494b8ca1-f063-4317-9057-8c6776a3da11",
   "metadata": {},
   "outputs": [],
   "source": [
    "\n",
    "cols=['Certified','Denied']\n",
    "df3=pd.DataFrame(zip(Certified_list,Denied_list),\n",
    "                 index=continents,\n",
    "                columns=cols)\n",
    "df3"
   ]
  },
  {
   "cell_type": "markdown",
   "id": "e51c81de-6c3d-4f8a-b07b-2b7fc6c156ea",
   "metadata": {},
   "source": [
    "**Cross tab**\n",
    "\n",
    "- The above data frame we can make by using a method :**Cross tab**\n",
    "\n",
    "- It is available in pandas\n",
    "\n",
    "- It takes Two argument\n",
    "\n",
    "    - index\n",
    " \n",
    "    - column\n",
    " \n",
    "- In above data frame index column is : continent\n",
    "\n",
    "- IN above data Frame Data columns is : case_status\n"
   ]
  },
  {
   "cell_type": "code",
   "execution_count": null,
   "id": "7110ae0f-d1bd-4cd4-94e2-6879d4c89db1",
   "metadata": {},
   "outputs": [],
   "source": [
    "index_column=visa_df['continent']\n",
    "data_columns=visa_df['case_status']\n",
    "df4=pd.crosstab(visa_df['continent'],visa_df['case_status'])\n",
    "df4"
   ]
  },
  {
   "cell_type": "code",
   "execution_count": null,
   "id": "2a616c67-e1f8-4fbc-a2e3-b0ed60d55d57",
   "metadata": {},
   "outputs": [],
   "source": [
    "df4.plot(kind='bar')"
   ]
  },
  {
   "cell_type": "code",
   "execution_count": null,
   "id": "7d91eab0-61aa-4e9d-800f-fb17318fcacf",
   "metadata": {},
   "outputs": [],
   "source": [
    "**Multivariate analysis**\n",
    "\n",
    "- Education \n",
    "\n",
    "- continent\n",
    "\n",
    "- case status \n",
    "\n",
    "- we already know from asia there 11k Accepted visa \n",
    "\n",
    "- In that i wqnt futhur break down based on education \n",
    "\n",
    "- herealso pd.cross tab \n",
    "\n",
    "    - first fix your o;f any one columns out of three column \n",
    "\n",
    "    - then keep two column in a list and pass as data column "
   ]
  },
  {
   "cell_type": "code",
   "execution_count": null,
   "id": "1e238e50-1179-46cb-a3d1-6985f14299ca",
   "metadata": {},
   "outputs": [],
   "source": [
    "index_column=visa_df['continent']\n",
    "data_columns=[visa_df['education_of_employee'],\n",
    "              visa_df['case_status']]\n",
    "\n",
    "df5=pd.crosstab(index_column,data_columns)\n",
    "df5"
   ]
  },
  {
   "cell_type": "code",
   "execution_count": null,
   "id": "4533b3ba-62da-45fb-a7c2-99db2b11193a",
   "metadata": {},
   "outputs": [],
   "source": [
    "df5.plot(kind='bar')"
   ]
  },
  {
   "cell_type": "code",
   "execution_count": null,
   "id": "c4343114-e8be-42fc-aa3e-665e34453acc",
   "metadata": {},
   "outputs": [],
   "source": []
  }
 ],
 "metadata": {
  "kernelspec": {
   "display_name": "Python 3 (ipykernel)",
   "language": "python",
   "name": "python3"
  },
  "language_info": {
   "codemirror_mode": {
    "name": "ipython",
    "version": 3
   },
   "file_extension": ".py",
   "mimetype": "text/x-python",
   "name": "python",
   "nbconvert_exporter": "python",
   "pygments_lexer": "ipython3",
   "version": "3.11.7"
  }
 },
 "nbformat": 4,
 "nbformat_minor": 5
}
